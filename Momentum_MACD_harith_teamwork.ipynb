{
 "cells": [
  {
   "cell_type": "markdown",
   "metadata": {},
   "source": [
    "# Project1\n",
    "## Momentum Trading\n",
    "### MACD"
   ]
  },
  {
   "cell_type": "code",
   "execution_count": 1,
   "metadata": {},
   "outputs": [
    {
     "data": {
      "application/javascript": "(function(root) {\n  function now() {\n    return new Date();\n  }\n\n  var force = true;\n\n  if (typeof root._bokeh_onload_callbacks === \"undefined\" || force === true) {\n    root._bokeh_onload_callbacks = [];\n    root._bokeh_is_loading = undefined;\n  }\n\n  if (typeof (root._bokeh_timeout) === \"undefined\" || force === true) {\n    root._bokeh_timeout = Date.now() + 5000;\n    root._bokeh_failed_load = false;\n  }\n\n  function run_callbacks() {\n    try {\n      root._bokeh_onload_callbacks.forEach(function(callback) {\n        if (callback != null)\n          callback();\n      });\n    } finally {\n      delete root._bokeh_onload_callbacks\n    }\n    console.debug(\"Bokeh: all callbacks have finished\");\n  }\n\n  function load_libs(css_urls, js_urls, js_modules, callback) {\n    if (css_urls == null) css_urls = [];\n    if (js_urls == null) js_urls = [];\n    if (js_modules == null) js_modules = [];\n\n    root._bokeh_onload_callbacks.push(callback);\n    if (root._bokeh_is_loading > 0) {\n      console.debug(\"Bokeh: BokehJS is being loaded, scheduling callback at\", now());\n      return null;\n    }\n    if (js_urls.length === 0 && js_modules.length === 0) {\n      run_callbacks();\n      return null;\n    }\n    console.debug(\"Bokeh: BokehJS not loaded, scheduling load and callback at\", now());\n\n    function on_load() {\n      root._bokeh_is_loading--;\n      if (root._bokeh_is_loading === 0) {\n        console.debug(\"Bokeh: all BokehJS libraries/stylesheets loaded\");\n        run_callbacks()\n      }\n    }\n\n    function on_error() {\n      console.error(\"failed to load \" + url);\n    }\n\n    for (var i = 0; i < css_urls.length; i++) {\n      var url = css_urls[i];\n      const element = document.createElement(\"link\");\n      element.onload = on_load;\n      element.onerror = on_error;\n      element.rel = \"stylesheet\";\n      element.type = \"text/css\";\n      element.href = url;\n      console.debug(\"Bokeh: injecting link tag for BokehJS stylesheet: \", url);\n      document.body.appendChild(element);\n    }\n\n    var skip = [];\n    if (window.requirejs) {\n      window.requirejs.config({'packages': {}, 'paths': {'gridstack': 'https://cdn.jsdelivr.net/npm/gridstack@4.2.5/dist/gridstack-h5', 'notyf': 'https://cdn.jsdelivr.net/npm/notyf@3/notyf.min'}, 'shim': {'gridstack': {'exports': 'GridStack'}}});\n      require([\"gridstack\"], function(GridStack) {\n\twindow.GridStack = GridStack\n\ton_load()\n      })\n      require([\"notyf\"], function() {\n\ton_load()\n      })\n      root._bokeh_is_loading = css_urls.length + 2;\n    } else {\n      root._bokeh_is_loading = css_urls.length + js_urls.length + js_modules.length;\n    }    if (((window['GridStack'] !== undefined) && (!(window['GridStack'] instanceof HTMLElement))) || window.requirejs) {\n      var urls = ['https://cdn.holoviz.org/panel/0.14.4/dist/bundled/gridstack/gridstack@4.2.5/dist/gridstack-h5.js'];\n      for (var i = 0; i < urls.length; i++) {\n        skip.push(urls[i])\n      }\n    }    if (((window['Notyf'] !== undefined) && (!(window['Notyf'] instanceof HTMLElement))) || window.requirejs) {\n      var urls = ['https://cdn.holoviz.org/panel/0.14.4/dist/bundled/notificationarea/notyf@3/notyf.min.js'];\n      for (var i = 0; i < urls.length; i++) {\n        skip.push(urls[i])\n      }\n    }    for (var i = 0; i < js_urls.length; i++) {\n      var url = js_urls[i];\n      if (skip.indexOf(url) >= 0) {\n\tif (!window.requirejs) {\n\t  on_load();\n\t}\n\tcontinue;\n      }\n      var element = document.createElement('script');\n      element.onload = on_load;\n      element.onerror = on_error;\n      element.async = false;\n      element.src = url;\n      console.debug(\"Bokeh: injecting script tag for BokehJS library: \", url);\n      document.head.appendChild(element);\n    }\n    for (var i = 0; i < js_modules.length; i++) {\n      var url = js_modules[i];\n      if (skip.indexOf(url) >= 0) {\n\tif (!window.requirejs) {\n\t  on_load();\n\t}\n\tcontinue;\n      }\n      var element = document.createElement('script');\n      element.onload = on_load;\n      element.onerror = on_error;\n      element.async = false;\n      element.src = url;\n      element.type = \"module\";\n      console.debug(\"Bokeh: injecting script tag for BokehJS library: \", url);\n      document.head.appendChild(element);\n    }\n    if (!js_urls.length && !js_modules.length) {\n      on_load()\n    }\n  };\n\n  function inject_raw_css(css) {\n    const element = document.createElement(\"style\");\n    element.appendChild(document.createTextNode(css));\n    document.body.appendChild(element);\n  }\n\n  var js_urls = [\"https://cdn.bokeh.org/bokeh/release/bokeh-2.4.3.min.js\", \"https://cdn.bokeh.org/bokeh/release/bokeh-gl-2.4.3.min.js\", \"https://cdn.bokeh.org/bokeh/release/bokeh-widgets-2.4.3.min.js\", \"https://cdn.bokeh.org/bokeh/release/bokeh-tables-2.4.3.min.js\", \"https://cdn.bokeh.org/bokeh/release/bokeh-mathjax-2.4.3.min.js\", \"https://unpkg.com/@holoviz/panel@0.14.4/dist/panel.min.js\"];\n  var js_modules = [];\n  var css_urls = [\"https://cdn.holoviz.org/panel/0.14.4/dist/css/debugger.css\", \"https://cdn.holoviz.org/panel/0.14.4/dist/css/alerts.css\", \"https://cdn.holoviz.org/panel/0.14.4/dist/css/card.css\", \"https://cdn.holoviz.org/panel/0.14.4/dist/css/widgets.css\", \"https://cdn.holoviz.org/panel/0.14.4/dist/css/markdown.css\", \"https://cdn.holoviz.org/panel/0.14.4/dist/css/json.css\", \"https://cdn.holoviz.org/panel/0.14.4/dist/css/loading.css\", \"https://cdn.holoviz.org/panel/0.14.4/dist/css/dataframe.css\"];\n  var inline_js = [    function(Bokeh) {\n      inject_raw_css(\"\\n    .bk.pn-loading.arc:before {\\n      background-image: url(\\\"data:image/svg+xml;base64,PHN2ZyB4bWxucz0iaHR0cDovL3d3dy53My5vcmcvMjAwMC9zdmciIHN0eWxlPSJtYXJnaW46IGF1dG87IGJhY2tncm91bmQ6IG5vbmU7IGRpc3BsYXk6IGJsb2NrOyBzaGFwZS1yZW5kZXJpbmc6IGF1dG87IiB2aWV3Qm94PSIwIDAgMTAwIDEwMCIgcHJlc2VydmVBc3BlY3RSYXRpbz0ieE1pZFlNaWQiPiAgPGNpcmNsZSBjeD0iNTAiIGN5PSI1MCIgZmlsbD0ibm9uZSIgc3Ryb2tlPSIjYzNjM2MzIiBzdHJva2Utd2lkdGg9IjEwIiByPSIzNSIgc3Ryb2tlLWRhc2hhcnJheT0iMTY0LjkzMzYxNDMxMzQ2NDE1IDU2Ljk3Nzg3MTQzNzgyMTM4Ij4gICAgPGFuaW1hdGVUcmFuc2Zvcm0gYXR0cmlidXRlTmFtZT0idHJhbnNmb3JtIiB0eXBlPSJyb3RhdGUiIHJlcGVhdENvdW50PSJpbmRlZmluaXRlIiBkdXI9IjFzIiB2YWx1ZXM9IjAgNTAgNTA7MzYwIDUwIDUwIiBrZXlUaW1lcz0iMDsxIj48L2FuaW1hdGVUcmFuc2Zvcm0+ICA8L2NpcmNsZT48L3N2Zz4=\\\");\\n      background-size: auto calc(min(50%, 400px));\\n    }\\n    \");\n    },    function(Bokeh) {\n      Bokeh.set_log_level(\"info\");\n    },\nfunction(Bokeh) {} // ensure no trailing comma for IE\n  ];\n\n  function run_inline_js() {\n    if ((root.Bokeh !== undefined) || (force === true)) {\n      for (var i = 0; i < inline_js.length; i++) {\n        inline_js[i].call(root, root.Bokeh);\n      }} else if (Date.now() < root._bokeh_timeout) {\n      setTimeout(run_inline_js, 100);\n    } else if (!root._bokeh_failed_load) {\n      console.log(\"Bokeh: BokehJS failed to load within specified timeout.\");\n      root._bokeh_failed_load = true;\n    }\n  }\n\n  if (root._bokeh_is_loading === 0) {\n    console.debug(\"Bokeh: BokehJS loaded, going straight to plotting\");\n    run_inline_js();\n  } else {\n    load_libs(css_urls, js_urls, js_modules, function() {\n      console.debug(\"Bokeh: BokehJS plotting callback run at\", now());\n      run_inline_js();\n    });\n  }\n}(window));",
      "application/vnd.holoviews_load.v0+json": ""
     },
     "metadata": {},
     "output_type": "display_data"
    },
    {
     "data": {
      "application/javascript": "\nif ((window.PyViz === undefined) || (window.PyViz instanceof HTMLElement)) {\n  window.PyViz = {comms: {}, comm_status:{}, kernels:{}, receivers: {}, plot_index: []}\n}\n\n\n    function JupyterCommManager() {\n    }\n\n    JupyterCommManager.prototype.register_target = function(plot_id, comm_id, msg_handler) {\n      if (window.comm_manager || ((window.Jupyter !== undefined) && (Jupyter.notebook.kernel != null))) {\n        var comm_manager = window.comm_manager || Jupyter.notebook.kernel.comm_manager;\n        comm_manager.register_target(comm_id, function(comm) {\n          comm.on_msg(msg_handler);\n        });\n      } else if ((plot_id in window.PyViz.kernels) && (window.PyViz.kernels[plot_id])) {\n        window.PyViz.kernels[plot_id].registerCommTarget(comm_id, function(comm) {\n          comm.onMsg = msg_handler;\n        });\n      } else if (typeof google != 'undefined' && google.colab.kernel != null) {\n        google.colab.kernel.comms.registerTarget(comm_id, (comm) => {\n          var messages = comm.messages[Symbol.asyncIterator]();\n          function processIteratorResult(result) {\n            var message = result.value;\n            console.log(message)\n            var content = {data: message.data, comm_id};\n            var buffers = []\n            for (var buffer of message.buffers || []) {\n              buffers.push(new DataView(buffer))\n            }\n            var metadata = message.metadata || {};\n            var msg = {content, buffers, metadata}\n            msg_handler(msg);\n            return messages.next().then(processIteratorResult);\n          }\n          return messages.next().then(processIteratorResult);\n        })\n      }\n    }\n\n    JupyterCommManager.prototype.get_client_comm = function(plot_id, comm_id, msg_handler) {\n      if (comm_id in window.PyViz.comms) {\n        return window.PyViz.comms[comm_id];\n      } else if (window.comm_manager || ((window.Jupyter !== undefined) && (Jupyter.notebook.kernel != null))) {\n        var comm_manager = window.comm_manager || Jupyter.notebook.kernel.comm_manager;\n        var comm = comm_manager.new_comm(comm_id, {}, {}, {}, comm_id);\n        if (msg_handler) {\n          comm.on_msg(msg_handler);\n        }\n      } else if ((plot_id in window.PyViz.kernels) && (window.PyViz.kernels[plot_id])) {\n        var comm = window.PyViz.kernels[plot_id].connectToComm(comm_id);\n        comm.open();\n        if (msg_handler) {\n          comm.onMsg = msg_handler;\n        }\n      } else if (typeof google != 'undefined' && google.colab.kernel != null) {\n        var comm_promise = google.colab.kernel.comms.open(comm_id)\n        comm_promise.then((comm) => {\n          window.PyViz.comms[comm_id] = comm;\n          if (msg_handler) {\n            var messages = comm.messages[Symbol.asyncIterator]();\n            function processIteratorResult(result) {\n              var message = result.value;\n              var content = {data: message.data};\n              var metadata = message.metadata || {comm_id};\n              var msg = {content, metadata}\n              msg_handler(msg);\n              return messages.next().then(processIteratorResult);\n            }\n            return messages.next().then(processIteratorResult);\n          }\n        }) \n        var sendClosure = (data, metadata, buffers, disposeOnDone) => {\n          return comm_promise.then((comm) => {\n            comm.send(data, metadata, buffers, disposeOnDone);\n          });\n        };\n        var comm = {\n          send: sendClosure\n        };\n      }\n      window.PyViz.comms[comm_id] = comm;\n      return comm;\n    }\n    window.PyViz.comm_manager = new JupyterCommManager();\n    \n\n\nvar JS_MIME_TYPE = 'application/javascript';\nvar HTML_MIME_TYPE = 'text/html';\nvar EXEC_MIME_TYPE = 'application/vnd.holoviews_exec.v0+json';\nvar CLASS_NAME = 'output';\n\n/**\n * Render data to the DOM node\n */\nfunction render(props, node) {\n  var div = document.createElement(\"div\");\n  var script = document.createElement(\"script\");\n  node.appendChild(div);\n  node.appendChild(script);\n}\n\n/**\n * Handle when a new output is added\n */\nfunction handle_add_output(event, handle) {\n  var output_area = handle.output_area;\n  var output = handle.output;\n  if ((output.data == undefined) || (!output.data.hasOwnProperty(EXEC_MIME_TYPE))) {\n    return\n  }\n  var id = output.metadata[EXEC_MIME_TYPE][\"id\"];\n  var toinsert = output_area.element.find(\".\" + CLASS_NAME.split(' ')[0]);\n  if (id !== undefined) {\n    var nchildren = toinsert.length;\n    var html_node = toinsert[nchildren-1].children[0];\n    html_node.innerHTML = output.data[HTML_MIME_TYPE];\n    var scripts = [];\n    var nodelist = html_node.querySelectorAll(\"script\");\n    for (var i in nodelist) {\n      if (nodelist.hasOwnProperty(i)) {\n        scripts.push(nodelist[i])\n      }\n    }\n\n    scripts.forEach( function (oldScript) {\n      var newScript = document.createElement(\"script\");\n      var attrs = [];\n      var nodemap = oldScript.attributes;\n      for (var j in nodemap) {\n        if (nodemap.hasOwnProperty(j)) {\n          attrs.push(nodemap[j])\n        }\n      }\n      attrs.forEach(function(attr) { newScript.setAttribute(attr.name, attr.value) });\n      newScript.appendChild(document.createTextNode(oldScript.innerHTML));\n      oldScript.parentNode.replaceChild(newScript, oldScript);\n    });\n    if (JS_MIME_TYPE in output.data) {\n      toinsert[nchildren-1].children[1].textContent = output.data[JS_MIME_TYPE];\n    }\n    output_area._hv_plot_id = id;\n    if ((window.Bokeh !== undefined) && (id in Bokeh.index)) {\n      window.PyViz.plot_index[id] = Bokeh.index[id];\n    } else {\n      window.PyViz.plot_index[id] = null;\n    }\n  } else if (output.metadata[EXEC_MIME_TYPE][\"server_id\"] !== undefined) {\n    var bk_div = document.createElement(\"div\");\n    bk_div.innerHTML = output.data[HTML_MIME_TYPE];\n    var script_attrs = bk_div.children[0].attributes;\n    for (var i = 0; i < script_attrs.length; i++) {\n      toinsert[toinsert.length - 1].childNodes[1].setAttribute(script_attrs[i].name, script_attrs[i].value);\n    }\n    // store reference to server id on output_area\n    output_area._bokeh_server_id = output.metadata[EXEC_MIME_TYPE][\"server_id\"];\n  }\n}\n\n/**\n * Handle when an output is cleared or removed\n */\nfunction handle_clear_output(event, handle) {\n  var id = handle.cell.output_area._hv_plot_id;\n  var server_id = handle.cell.output_area._bokeh_server_id;\n  if (((id === undefined) || !(id in PyViz.plot_index)) && (server_id !== undefined)) { return; }\n  var comm = window.PyViz.comm_manager.get_client_comm(\"hv-extension-comm\", \"hv-extension-comm\", function () {});\n  if (server_id !== null) {\n    comm.send({event_type: 'server_delete', 'id': server_id});\n    return;\n  } else if (comm !== null) {\n    comm.send({event_type: 'delete', 'id': id});\n  }\n  delete PyViz.plot_index[id];\n  if ((window.Bokeh !== undefined) & (id in window.Bokeh.index)) {\n    var doc = window.Bokeh.index[id].model.document\n    doc.clear();\n    const i = window.Bokeh.documents.indexOf(doc);\n    if (i > -1) {\n      window.Bokeh.documents.splice(i, 1);\n    }\n  }\n}\n\n/**\n * Handle kernel restart event\n */\nfunction handle_kernel_cleanup(event, handle) {\n  delete PyViz.comms[\"hv-extension-comm\"];\n  window.PyViz.plot_index = {}\n}\n\n/**\n * Handle update_display_data messages\n */\nfunction handle_update_output(event, handle) {\n  handle_clear_output(event, {cell: {output_area: handle.output_area}})\n  handle_add_output(event, handle)\n}\n\nfunction register_renderer(events, OutputArea) {\n  function append_mime(data, metadata, element) {\n    // create a DOM node to render to\n    var toinsert = this.create_output_subarea(\n    metadata,\n    CLASS_NAME,\n    EXEC_MIME_TYPE\n    );\n    this.keyboard_manager.register_events(toinsert);\n    // Render to node\n    var props = {data: data, metadata: metadata[EXEC_MIME_TYPE]};\n    render(props, toinsert[0]);\n    element.append(toinsert);\n    return toinsert\n  }\n\n  events.on('output_added.OutputArea', handle_add_output);\n  events.on('output_updated.OutputArea', handle_update_output);\n  events.on('clear_output.CodeCell', handle_clear_output);\n  events.on('delete.Cell', handle_clear_output);\n  events.on('kernel_ready.Kernel', handle_kernel_cleanup);\n\n  OutputArea.prototype.register_mime_type(EXEC_MIME_TYPE, append_mime, {\n    safe: true,\n    index: 0\n  });\n}\n\nif (window.Jupyter !== undefined) {\n  try {\n    var events = require('base/js/events');\n    var OutputArea = require('notebook/js/outputarea').OutputArea;\n    if (OutputArea.prototype.mime_types().indexOf(EXEC_MIME_TYPE) == -1) {\n      register_renderer(events, OutputArea);\n    }\n  } catch(err) {\n  }\n}\n",
      "application/vnd.holoviews_load.v0+json": ""
     },
     "metadata": {},
     "output_type": "display_data"
    },
    {
     "data": {
      "text/html": [
       "<style>.bk-root, .bk-root .bk:before, .bk-root .bk:after {\n",
       "  font-family: var(--jp-ui-font-size1);\n",
       "  font-size: var(--jp-ui-font-size1);\n",
       "  color: var(--jp-ui-font-color1);\n",
       "}\n",
       "</style>"
      ]
     },
     "metadata": {},
     "output_type": "display_data"
    }
   ],
   "source": [
    "# Initial imports\n",
    "import os\n",
    "import requests\n",
    "import pandas as pd\n",
    "import numpy as np\n",
    "#from MCForecastTools import MCSimulation\n",
    "from dotenv import load_dotenv\n",
    "import alpaca_trade_api as tradeapi\n",
    "from alpha_vantage.timeseries import TimeSeries\n",
    "import matplotlib.pyplot as plt\n",
    "import hvplot.pandas\n",
    "\n",
    "\n",
    "%matplotlib inline"
   ]
  },
  {
   "cell_type": "code",
   "execution_count": 2,
   "metadata": {},
   "outputs": [
    {
     "data": {
      "text/plain": [
       "True"
      ]
     },
     "execution_count": 2,
     "metadata": {},
     "output_type": "execute_result"
    }
   ],
   "source": [
    "# Load .env enviroment variables\n",
    "load_dotenv()"
   ]
  },
  {
   "cell_type": "markdown",
   "metadata": {},
   "source": [
    "### Collect Apple and SP500 Prices Using the `requests` Library"
   ]
  },
  {
   "cell_type": "code",
   "execution_count": 3,
   "metadata": {},
   "outputs": [],
   "source": [
    "# Set current amount of stock assets\n",
    "my_apple_1time=1\n",
    "my_sp500_1time=1"
   ]
  },
  {
   "cell_type": "code",
   "execution_count": 4,
   "metadata": {},
   "outputs": [],
   "source": [
    "# stock API URLs\n",
    "my_apple_1time_url = \"https://api.alternative.me/v2/ticker/?symbol=AAPL\"\n",
    "my_sp500_1time_url = \"https://api.alternative.me/v2/ticker/?symbol=SP500\""
   ]
  },
  {
   "cell_type": "code",
   "execution_count": 5,
   "metadata": {},
   "outputs": [
    {
     "name": "stdout",
     "output_type": "stream",
     "text": [
      "The current value of your 1 AAPLE is $34428.00\n",
      "The current value of your 1 SP500 is $1795.91\n"
     ]
    }
   ],
   "source": [
    "# Fetch current Apple price\n",
    "apple_price=requests.get(my_apple_1time_url).json()\n",
    "apple_price\n",
    "\n",
    "# Fetch current SP500 price\n",
    "sp500_price=requests.get(my_sp500_1time_url).json()\n",
    "sp500_price\n",
    "\n",
    "# Compute current value of my crpto\n",
    "my_apple_value=my_apple_1time*apple_price['data']['1']['quotes']['USD']['price']\n",
    "my_sp500_value=my_sp500_1time*sp500_price['data']['1027']['quotes']['USD']['price']\n",
    "\n",
    "# Print current crypto wallet balance\n",
    "print(f\"The current value of your {my_apple_1time} AAPLE is ${my_apple_value:0.2f}\")\n",
    "print(f\"The current value of your {my_sp500_1time} SP500 is ${my_sp500_value:0.2f}\")"
   ]
  },
  {
   "cell_type": "markdown",
   "metadata": {},
   "source": [
    "### Collect Investments Data Using Alpaca: `AAPLE` (stocks) and `SP500` (stocks)"
   ]
  },
  {
   "cell_type": "code",
   "execution_count": 6,
   "metadata": {},
   "outputs": [],
   "source": [
    "# Set current amount of shares\n",
    "my_apple = 1\n",
    "my_sp500 = 1"
   ]
  },
  {
   "cell_type": "code",
   "execution_count": 7,
   "metadata": {},
   "outputs": [],
   "source": [
    "# Set Alpaca API key and secret\n",
    "alpaca_api_key=os.getenv('ALPACA_API_KEY')\n",
    "alpaca_secret_key=os.getenv('ALPACA_SECRET_KEY')\n",
    "\n",
    "# Create the Alpaca API object\n",
    "alpaca=tradeapi.REST(\n",
    "    alpaca_api_key,\n",
    "    alpaca_secret_key,\n",
    "    api_version='v2'\n",
    ")"
   ]
  },
  {
   "cell_type": "code",
   "execution_count": 8,
   "metadata": {},
   "outputs": [
    {
     "data": {
      "text/html": [
       "<div>\n",
       "<style scoped>\n",
       "    .dataframe tbody tr th:only-of-type {\n",
       "        vertical-align: middle;\n",
       "    }\n",
       "\n",
       "    .dataframe tbody tr th {\n",
       "        vertical-align: top;\n",
       "    }\n",
       "\n",
       "    .dataframe thead th {\n",
       "        text-align: right;\n",
       "    }\n",
       "</style>\n",
       "<table border=\"1\" class=\"dataframe\">\n",
       "  <thead>\n",
       "    <tr style=\"text-align: right;\">\n",
       "      <th></th>\n",
       "      <th>close</th>\n",
       "      <th>high</th>\n",
       "      <th>low</th>\n",
       "      <th>trade_count</th>\n",
       "      <th>open</th>\n",
       "      <th>volume</th>\n",
       "      <th>vwap</th>\n",
       "      <th>symbol</th>\n",
       "    </tr>\n",
       "    <tr>\n",
       "      <th>timestamp</th>\n",
       "      <th></th>\n",
       "      <th></th>\n",
       "      <th></th>\n",
       "      <th></th>\n",
       "      <th></th>\n",
       "      <th></th>\n",
       "      <th></th>\n",
       "      <th></th>\n",
       "    </tr>\n",
       "  </thead>\n",
       "  <tbody>\n",
       "    <tr>\n",
       "      <th>2023-10-30 08:00:00+00:00</th>\n",
       "      <td>168.90</td>\n",
       "      <td>169.00</td>\n",
       "      <td>168.60</td>\n",
       "      <td>391</td>\n",
       "      <td>168.98</td>\n",
       "      <td>15303</td>\n",
       "      <td>168.871369</td>\n",
       "      <td>AAPL</td>\n",
       "    </tr>\n",
       "    <tr>\n",
       "      <th>2023-10-30 08:15:00+00:00</th>\n",
       "      <td>168.85</td>\n",
       "      <td>169.00</td>\n",
       "      <td>168.85</td>\n",
       "      <td>105</td>\n",
       "      <td>168.99</td>\n",
       "      <td>5249</td>\n",
       "      <td>168.955731</td>\n",
       "      <td>AAPL</td>\n",
       "    </tr>\n",
       "    <tr>\n",
       "      <th>2023-10-30 08:30:00+00:00</th>\n",
       "      <td>168.85</td>\n",
       "      <td>168.92</td>\n",
       "      <td>168.85</td>\n",
       "      <td>72</td>\n",
       "      <td>168.85</td>\n",
       "      <td>3911</td>\n",
       "      <td>168.863544</td>\n",
       "      <td>AAPL</td>\n",
       "    </tr>\n",
       "    <tr>\n",
       "      <th>2023-10-30 08:45:00+00:00</th>\n",
       "      <td>168.99</td>\n",
       "      <td>168.99</td>\n",
       "      <td>168.71</td>\n",
       "      <td>81</td>\n",
       "      <td>168.86</td>\n",
       "      <td>4184</td>\n",
       "      <td>168.869565</td>\n",
       "      <td>AAPL</td>\n",
       "    </tr>\n",
       "    <tr>\n",
       "      <th>2023-10-30 09:00:00+00:00</th>\n",
       "      <td>169.23</td>\n",
       "      <td>169.23</td>\n",
       "      <td>168.97</td>\n",
       "      <td>111</td>\n",
       "      <td>168.97</td>\n",
       "      <td>5241</td>\n",
       "      <td>169.137236</td>\n",
       "      <td>AAPL</td>\n",
       "    </tr>\n",
       "  </tbody>\n",
       "</table>\n",
       "</div>"
      ],
      "text/plain": [
       "                            close    high     low  trade_count    open  \\\n",
       "timestamp                                                                \n",
       "2023-10-30 08:00:00+00:00  168.90  169.00  168.60          391  168.98   \n",
       "2023-10-30 08:15:00+00:00  168.85  169.00  168.85          105  168.99   \n",
       "2023-10-30 08:30:00+00:00  168.85  168.92  168.85           72  168.85   \n",
       "2023-10-30 08:45:00+00:00  168.99  168.99  168.71           81  168.86   \n",
       "2023-10-30 09:00:00+00:00  169.23  169.23  168.97          111  168.97   \n",
       "\n",
       "                           volume        vwap symbol  \n",
       "timestamp                                             \n",
       "2023-10-30 08:00:00+00:00   15303  168.871369   AAPL  \n",
       "2023-10-30 08:15:00+00:00    5249  168.955731   AAPL  \n",
       "2023-10-30 08:30:00+00:00    3911  168.863544   AAPL  \n",
       "2023-10-30 08:45:00+00:00    4184  168.869565   AAPL  \n",
       "2023-10-30 09:00:00+00:00    5241  169.137236   AAPL  "
      ]
     },
     "execution_count": 8,
     "metadata": {},
     "output_type": "execute_result"
    }
   ],
   "source": [
    "# Format current date as ISO format\n",
    "start_time=pd.Timestamp('2023-10-30', tz='America/New_York').isoformat()\n",
    "end_time=pd.Timestamp('2023-10-31', tz='America/New_York').isoformat()\n",
    "\n",
    "# Set the tickers\n",
    "tickers = [\"AAPL\"]\n",
    "\n",
    "# Set timeframe to \"1Minute\" for Alpaca API\n",
    "timeframe = \"15Min\"\n",
    "\n",
    "# Get current closing prices for AAPL and SP500\n",
    "df_tickers=alpaca.get_bars(\n",
    "    tickers,\n",
    "    timeframe,\n",
    "    start=start_time,\n",
    "    end=end_time\n",
    ").df\n",
    "\n",
    "df_tickers.head()"
   ]
  },
  {
   "cell_type": "code",
   "execution_count": 9,
   "metadata": {},
   "outputs": [
    {
     "data": {
      "text/html": [
       "<div>\n",
       "<style scoped>\n",
       "    .dataframe tbody tr th:only-of-type {\n",
       "        vertical-align: middle;\n",
       "    }\n",
       "\n",
       "    .dataframe tbody tr th {\n",
       "        vertical-align: top;\n",
       "    }\n",
       "\n",
       "    .dataframe thead th {\n",
       "        text-align: right;\n",
       "    }\n",
       "</style>\n",
       "<table border=\"1\" class=\"dataframe\">\n",
       "  <thead>\n",
       "    <tr style=\"text-align: right;\">\n",
       "      <th></th>\n",
       "      <th>close</th>\n",
       "    </tr>\n",
       "    <tr>\n",
       "      <th>timestamp</th>\n",
       "      <th></th>\n",
       "    </tr>\n",
       "  </thead>\n",
       "  <tbody>\n",
       "    <tr>\n",
       "      <th>2023-10-30 08:00:00+00:00</th>\n",
       "      <td>168.90</td>\n",
       "    </tr>\n",
       "    <tr>\n",
       "      <th>2023-10-30 08:15:00+00:00</th>\n",
       "      <td>168.85</td>\n",
       "    </tr>\n",
       "    <tr>\n",
       "      <th>2023-10-30 08:30:00+00:00</th>\n",
       "      <td>168.85</td>\n",
       "    </tr>\n",
       "    <tr>\n",
       "      <th>2023-10-30 08:45:00+00:00</th>\n",
       "      <td>168.99</td>\n",
       "    </tr>\n",
       "    <tr>\n",
       "      <th>2023-10-30 09:00:00+00:00</th>\n",
       "      <td>169.23</td>\n",
       "    </tr>\n",
       "  </tbody>\n",
       "</table>\n",
       "</div>"
      ],
      "text/plain": [
       "                            close\n",
       "timestamp                        \n",
       "2023-10-30 08:00:00+00:00  168.90\n",
       "2023-10-30 08:15:00+00:00  168.85\n",
       "2023-10-30 08:30:00+00:00  168.85\n",
       "2023-10-30 08:45:00+00:00  168.99\n",
       "2023-10-30 09:00:00+00:00  169.23"
      ]
     },
     "execution_count": 9,
     "metadata": {},
     "output_type": "execute_result"
    }
   ],
   "source": [
    "# Reorganize the DataFrame\n",
    "# Separate ticker data\n",
    "df_tickers.drop(['high','low','trade_count','open','volume','vwap','symbol'], axis=1, inplace=True)\n",
    "\n",
    "df_tickers.head()"
   ]
  },
  {
   "cell_type": "code",
   "execution_count": 10,
   "metadata": {},
   "outputs": [
    {
     "data": {
      "text/html": [
       "<div>\n",
       "<style scoped>\n",
       "    .dataframe tbody tr th:only-of-type {\n",
       "        vertical-align: middle;\n",
       "    }\n",
       "\n",
       "    .dataframe tbody tr th {\n",
       "        vertical-align: top;\n",
       "    }\n",
       "\n",
       "    .dataframe thead th {\n",
       "        text-align: right;\n",
       "    }\n",
       "</style>\n",
       "<table border=\"1\" class=\"dataframe\">\n",
       "  <thead>\n",
       "    <tr style=\"text-align: right;\">\n",
       "      <th></th>\n",
       "      <th>close</th>\n",
       "      <th>return</th>\n",
       "    </tr>\n",
       "    <tr>\n",
       "      <th>timestamp</th>\n",
       "      <th></th>\n",
       "      <th></th>\n",
       "    </tr>\n",
       "  </thead>\n",
       "  <tbody>\n",
       "    <tr>\n",
       "      <th>2023-10-30 08:00:00+00:00</th>\n",
       "      <td>168.9000</td>\n",
       "      <td>NaN</td>\n",
       "    </tr>\n",
       "    <tr>\n",
       "      <th>2023-10-30 08:15:00+00:00</th>\n",
       "      <td>168.8500</td>\n",
       "      <td>-0.000296</td>\n",
       "    </tr>\n",
       "    <tr>\n",
       "      <th>2023-10-30 08:30:00+00:00</th>\n",
       "      <td>168.8500</td>\n",
       "      <td>0.000000</td>\n",
       "    </tr>\n",
       "    <tr>\n",
       "      <th>2023-10-30 08:45:00+00:00</th>\n",
       "      <td>168.9900</td>\n",
       "      <td>0.000829</td>\n",
       "    </tr>\n",
       "    <tr>\n",
       "      <th>2023-10-30 09:00:00+00:00</th>\n",
       "      <td>169.2300</td>\n",
       "      <td>0.001420</td>\n",
       "    </tr>\n",
       "    <tr>\n",
       "      <th>...</th>\n",
       "      <td>...</td>\n",
       "      <td>...</td>\n",
       "    </tr>\n",
       "    <tr>\n",
       "      <th>2023-10-30 22:45:00+00:00</th>\n",
       "      <td>169.8699</td>\n",
       "      <td>-0.000177</td>\n",
       "    </tr>\n",
       "    <tr>\n",
       "      <th>2023-10-30 23:00:00+00:00</th>\n",
       "      <td>169.8200</td>\n",
       "      <td>-0.000294</td>\n",
       "    </tr>\n",
       "    <tr>\n",
       "      <th>2023-10-30 23:15:00+00:00</th>\n",
       "      <td>169.8500</td>\n",
       "      <td>0.000177</td>\n",
       "    </tr>\n",
       "    <tr>\n",
       "      <th>2023-10-30 23:30:00+00:00</th>\n",
       "      <td>169.8199</td>\n",
       "      <td>-0.000177</td>\n",
       "    </tr>\n",
       "    <tr>\n",
       "      <th>2023-10-30 23:45:00+00:00</th>\n",
       "      <td>169.7000</td>\n",
       "      <td>-0.000706</td>\n",
       "    </tr>\n",
       "  </tbody>\n",
       "</table>\n",
       "<p>64 rows × 2 columns</p>\n",
       "</div>"
      ],
      "text/plain": [
       "                              close    return\n",
       "timestamp                                    \n",
       "2023-10-30 08:00:00+00:00  168.9000       NaN\n",
       "2023-10-30 08:15:00+00:00  168.8500 -0.000296\n",
       "2023-10-30 08:30:00+00:00  168.8500  0.000000\n",
       "2023-10-30 08:45:00+00:00  168.9900  0.000829\n",
       "2023-10-30 09:00:00+00:00  169.2300  0.001420\n",
       "...                             ...       ...\n",
       "2023-10-30 22:45:00+00:00  169.8699 -0.000177\n",
       "2023-10-30 23:00:00+00:00  169.8200 -0.000294\n",
       "2023-10-30 23:15:00+00:00  169.8500  0.000177\n",
       "2023-10-30 23:30:00+00:00  169.8199 -0.000177\n",
       "2023-10-30 23:45:00+00:00  169.7000 -0.000706\n",
       "\n",
       "[64 rows x 2 columns]"
      ]
     },
     "execution_count": 10,
     "metadata": {},
     "output_type": "execute_result"
    }
   ],
   "source": [
    "df_tickers['return']=df_tickers['close'].pct_change()\n",
    "df_tickers"
   ]
  },
  {
   "cell_type": "markdown",
   "metadata": {},
   "source": [
    "### MACD formula"
   ]
  },
  {
   "cell_type": "code",
   "execution_count": 11,
   "metadata": {},
   "outputs": [],
   "source": [
    "# Set MACD formula and iterate over Apple data for the specified intervals and period of time\n",
    "\n",
    "moving_average_convergance_divergence_ema12 = df_tickers['return'].ewm(halflife=12).mean()\n",
    "moving_average_convergance_divergence_ema26 = df_tickers['return'].ewm(halflife=26).mean()\n",
    "  "
   ]
  },
  {
   "cell_type": "code",
   "execution_count": 12,
   "metadata": {},
   "outputs": [
    {
     "data": {
      "text/plain": [
       "timestamp\n",
       "2023-10-30 08:00:00+00:00         NaN\n",
       "2023-10-30 08:15:00+00:00    0.000000\n",
       "2023-10-30 08:30:00+00:00    0.000002\n",
       "2023-10-30 08:45:00+00:00    0.000012\n",
       "2023-10-30 09:00:00+00:00    0.000023\n",
       "Name: return, dtype: float64"
      ]
     },
     "execution_count": 12,
     "metadata": {},
     "output_type": "execute_result"
    }
   ],
   "source": [
    "\n",
    "MACD_line = moving_average_convergance_divergence_ema12 - moving_average_convergance_divergence_ema26\n",
    "MACD_line.head()\n"
   ]
  },
  {
   "cell_type": "code",
   "execution_count": 13,
   "metadata": {},
   "outputs": [
    {
     "data": {
      "text/plain": [
       "timestamp\n",
       "2023-10-30 08:00:00+00:00         NaN\n",
       "2023-10-30 08:15:00+00:00    0.000000\n",
       "2023-10-30 08:30:00+00:00    0.000001\n",
       "2023-10-30 08:45:00+00:00    0.000005\n",
       "2023-10-30 09:00:00+00:00    0.000010\n",
       "Name: return, dtype: float64"
      ]
     },
     "execution_count": 13,
     "metadata": {},
     "output_type": "execute_result"
    }
   ],
   "source": [
    "Signal_line = MACD_line.ewm(halflife=9).mean()\n",
    "Signal_line.head()"
   ]
  },
  {
   "cell_type": "code",
   "execution_count": 14,
   "metadata": {},
   "outputs": [
    {
     "data": {
      "text/html": [
       "<div>\n",
       "<style scoped>\n",
       "    .dataframe tbody tr th:only-of-type {\n",
       "        vertical-align: middle;\n",
       "    }\n",
       "\n",
       "    .dataframe tbody tr th {\n",
       "        vertical-align: top;\n",
       "    }\n",
       "\n",
       "    .dataframe thead th {\n",
       "        text-align: right;\n",
       "    }\n",
       "</style>\n",
       "<table border=\"1\" class=\"dataframe\">\n",
       "  <thead>\n",
       "    <tr style=\"text-align: right;\">\n",
       "      <th></th>\n",
       "      <th>close</th>\n",
       "      <th>return</th>\n",
       "      <th>ewm12</th>\n",
       "    </tr>\n",
       "    <tr>\n",
       "      <th>timestamp</th>\n",
       "      <th></th>\n",
       "      <th></th>\n",
       "      <th></th>\n",
       "    </tr>\n",
       "  </thead>\n",
       "  <tbody>\n",
       "    <tr>\n",
       "      <th>2023-10-30 08:00:00+00:00</th>\n",
       "      <td>168.90</td>\n",
       "      <td>NaN</td>\n",
       "      <td>NaN</td>\n",
       "    </tr>\n",
       "    <tr>\n",
       "      <th>2023-10-30 08:15:00+00:00</th>\n",
       "      <td>168.85</td>\n",
       "      <td>-0.000296</td>\n",
       "      <td>-0.000296</td>\n",
       "    </tr>\n",
       "    <tr>\n",
       "      <th>2023-10-30 08:30:00+00:00</th>\n",
       "      <td>168.85</td>\n",
       "      <td>0.000000</td>\n",
       "      <td>-0.000144</td>\n",
       "    </tr>\n",
       "    <tr>\n",
       "      <th>2023-10-30 08:45:00+00:00</th>\n",
       "      <td>168.99</td>\n",
       "      <td>0.000829</td>\n",
       "      <td>0.000199</td>\n",
       "    </tr>\n",
       "    <tr>\n",
       "      <th>2023-10-30 09:00:00+00:00</th>\n",
       "      <td>169.23</td>\n",
       "      <td>0.001420</td>\n",
       "      <td>0.000532</td>\n",
       "    </tr>\n",
       "  </tbody>\n",
       "</table>\n",
       "</div>"
      ],
      "text/plain": [
       "                            close    return     ewm12\n",
       "timestamp                                            \n",
       "2023-10-30 08:00:00+00:00  168.90       NaN       NaN\n",
       "2023-10-30 08:15:00+00:00  168.85 -0.000296 -0.000296\n",
       "2023-10-30 08:30:00+00:00  168.85  0.000000 -0.000144\n",
       "2023-10-30 08:45:00+00:00  168.99  0.000829  0.000199\n",
       "2023-10-30 09:00:00+00:00  169.23  0.001420  0.000532"
      ]
     },
     "execution_count": 14,
     "metadata": {},
     "output_type": "execute_result"
    }
   ],
   "source": [
    "df_tickers=df_tickers.assign(ewm12=df_tickers['return'].ewm(halflife=12).mean())\n",
    "df_tickers.head()"
   ]
  },
  {
   "cell_type": "code",
   "execution_count": 15,
   "metadata": {},
   "outputs": [
    {
     "data": {
      "text/html": [
       "<div>\n",
       "<style scoped>\n",
       "    .dataframe tbody tr th:only-of-type {\n",
       "        vertical-align: middle;\n",
       "    }\n",
       "\n",
       "    .dataframe tbody tr th {\n",
       "        vertical-align: top;\n",
       "    }\n",
       "\n",
       "    .dataframe thead th {\n",
       "        text-align: right;\n",
       "    }\n",
       "</style>\n",
       "<table border=\"1\" class=\"dataframe\">\n",
       "  <thead>\n",
       "    <tr style=\"text-align: right;\">\n",
       "      <th></th>\n",
       "      <th>close</th>\n",
       "      <th>return</th>\n",
       "      <th>ewm12</th>\n",
       "      <th>ewm26</th>\n",
       "    </tr>\n",
       "    <tr>\n",
       "      <th>timestamp</th>\n",
       "      <th></th>\n",
       "      <th></th>\n",
       "      <th></th>\n",
       "      <th></th>\n",
       "    </tr>\n",
       "  </thead>\n",
       "  <tbody>\n",
       "    <tr>\n",
       "      <th>2023-10-30 08:00:00+00:00</th>\n",
       "      <td>168.90</td>\n",
       "      <td>NaN</td>\n",
       "      <td>NaN</td>\n",
       "      <td>NaN</td>\n",
       "    </tr>\n",
       "    <tr>\n",
       "      <th>2023-10-30 08:15:00+00:00</th>\n",
       "      <td>168.85</td>\n",
       "      <td>-0.000296</td>\n",
       "      <td>-0.000296</td>\n",
       "      <td>-0.000296</td>\n",
       "    </tr>\n",
       "    <tr>\n",
       "      <th>2023-10-30 08:30:00+00:00</th>\n",
       "      <td>168.85</td>\n",
       "      <td>0.000000</td>\n",
       "      <td>-0.000144</td>\n",
       "      <td>-0.000146</td>\n",
       "    </tr>\n",
       "    <tr>\n",
       "      <th>2023-10-30 08:45:00+00:00</th>\n",
       "      <td>168.99</td>\n",
       "      <td>0.000829</td>\n",
       "      <td>0.000199</td>\n",
       "      <td>0.000188</td>\n",
       "    </tr>\n",
       "    <tr>\n",
       "      <th>2023-10-30 09:00:00+00:00</th>\n",
       "      <td>169.23</td>\n",
       "      <td>0.001420</td>\n",
       "      <td>0.000532</td>\n",
       "      <td>0.000508</td>\n",
       "    </tr>\n",
       "  </tbody>\n",
       "</table>\n",
       "</div>"
      ],
      "text/plain": [
       "                            close    return     ewm12     ewm26\n",
       "timestamp                                                      \n",
       "2023-10-30 08:00:00+00:00  168.90       NaN       NaN       NaN\n",
       "2023-10-30 08:15:00+00:00  168.85 -0.000296 -0.000296 -0.000296\n",
       "2023-10-30 08:30:00+00:00  168.85  0.000000 -0.000144 -0.000146\n",
       "2023-10-30 08:45:00+00:00  168.99  0.000829  0.000199  0.000188\n",
       "2023-10-30 09:00:00+00:00  169.23  0.001420  0.000532  0.000508"
      ]
     },
     "execution_count": 15,
     "metadata": {},
     "output_type": "execute_result"
    }
   ],
   "source": [
    "df_tickers=df_tickers.assign(ewm26=df_tickers['return'].ewm(halflife=26).mean())\n",
    "df_tickers.head()"
   ]
  },
  {
   "cell_type": "code",
   "execution_count": 16,
   "metadata": {},
   "outputs": [
    {
     "data": {
      "text/html": [
       "<div>\n",
       "<style scoped>\n",
       "    .dataframe tbody tr th:only-of-type {\n",
       "        vertical-align: middle;\n",
       "    }\n",
       "\n",
       "    .dataframe tbody tr th {\n",
       "        vertical-align: top;\n",
       "    }\n",
       "\n",
       "    .dataframe thead th {\n",
       "        text-align: right;\n",
       "    }\n",
       "</style>\n",
       "<table border=\"1\" class=\"dataframe\">\n",
       "  <thead>\n",
       "    <tr style=\"text-align: right;\">\n",
       "      <th></th>\n",
       "      <th>close</th>\n",
       "      <th>return</th>\n",
       "      <th>ewm12</th>\n",
       "      <th>ewm26</th>\n",
       "      <th>macd</th>\n",
       "    </tr>\n",
       "    <tr>\n",
       "      <th>timestamp</th>\n",
       "      <th></th>\n",
       "      <th></th>\n",
       "      <th></th>\n",
       "      <th></th>\n",
       "      <th></th>\n",
       "    </tr>\n",
       "  </thead>\n",
       "  <tbody>\n",
       "    <tr>\n",
       "      <th>2023-10-30 08:00:00+00:00</th>\n",
       "      <td>168.90</td>\n",
       "      <td>NaN</td>\n",
       "      <td>NaN</td>\n",
       "      <td>NaN</td>\n",
       "      <td>NaN</td>\n",
       "    </tr>\n",
       "    <tr>\n",
       "      <th>2023-10-30 08:15:00+00:00</th>\n",
       "      <td>168.85</td>\n",
       "      <td>-0.000296</td>\n",
       "      <td>-0.000296</td>\n",
       "      <td>-0.000296</td>\n",
       "      <td>0.000000</td>\n",
       "    </tr>\n",
       "    <tr>\n",
       "      <th>2023-10-30 08:30:00+00:00</th>\n",
       "      <td>168.85</td>\n",
       "      <td>0.000000</td>\n",
       "      <td>-0.000144</td>\n",
       "      <td>-0.000146</td>\n",
       "      <td>0.000002</td>\n",
       "    </tr>\n",
       "    <tr>\n",
       "      <th>2023-10-30 08:45:00+00:00</th>\n",
       "      <td>168.99</td>\n",
       "      <td>0.000829</td>\n",
       "      <td>0.000199</td>\n",
       "      <td>0.000188</td>\n",
       "      <td>0.000012</td>\n",
       "    </tr>\n",
       "    <tr>\n",
       "      <th>2023-10-30 09:00:00+00:00</th>\n",
       "      <td>169.23</td>\n",
       "      <td>0.001420</td>\n",
       "      <td>0.000532</td>\n",
       "      <td>0.000508</td>\n",
       "      <td>0.000023</td>\n",
       "    </tr>\n",
       "  </tbody>\n",
       "</table>\n",
       "</div>"
      ],
      "text/plain": [
       "                            close    return     ewm12     ewm26      macd\n",
       "timestamp                                                                \n",
       "2023-10-30 08:00:00+00:00  168.90       NaN       NaN       NaN       NaN\n",
       "2023-10-30 08:15:00+00:00  168.85 -0.000296 -0.000296 -0.000296  0.000000\n",
       "2023-10-30 08:30:00+00:00  168.85  0.000000 -0.000144 -0.000146  0.000002\n",
       "2023-10-30 08:45:00+00:00  168.99  0.000829  0.000199  0.000188  0.000012\n",
       "2023-10-30 09:00:00+00:00  169.23  0.001420  0.000532  0.000508  0.000023"
      ]
     },
     "execution_count": 16,
     "metadata": {},
     "output_type": "execute_result"
    }
   ],
   "source": [
    "df_tickers=df_tickers.assign(macd=MACD_line)\n",
    "df_tickers.head()"
   ]
  },
  {
   "cell_type": "code",
   "execution_count": 17,
   "metadata": {},
   "outputs": [
    {
     "data": {
      "text/html": [
       "<div>\n",
       "<style scoped>\n",
       "    .dataframe tbody tr th:only-of-type {\n",
       "        vertical-align: middle;\n",
       "    }\n",
       "\n",
       "    .dataframe tbody tr th {\n",
       "        vertical-align: top;\n",
       "    }\n",
       "\n",
       "    .dataframe thead th {\n",
       "        text-align: right;\n",
       "    }\n",
       "</style>\n",
       "<table border=\"1\" class=\"dataframe\">\n",
       "  <thead>\n",
       "    <tr style=\"text-align: right;\">\n",
       "      <th></th>\n",
       "      <th>close</th>\n",
       "      <th>return</th>\n",
       "      <th>ewm12</th>\n",
       "      <th>ewm26</th>\n",
       "      <th>macd</th>\n",
       "      <th>signal</th>\n",
       "    </tr>\n",
       "    <tr>\n",
       "      <th>timestamp</th>\n",
       "      <th></th>\n",
       "      <th></th>\n",
       "      <th></th>\n",
       "      <th></th>\n",
       "      <th></th>\n",
       "      <th></th>\n",
       "    </tr>\n",
       "  </thead>\n",
       "  <tbody>\n",
       "    <tr>\n",
       "      <th>2023-10-30 08:00:00+00:00</th>\n",
       "      <td>168.90</td>\n",
       "      <td>NaN</td>\n",
       "      <td>NaN</td>\n",
       "      <td>NaN</td>\n",
       "      <td>NaN</td>\n",
       "      <td>NaN</td>\n",
       "    </tr>\n",
       "    <tr>\n",
       "      <th>2023-10-30 08:15:00+00:00</th>\n",
       "      <td>168.85</td>\n",
       "      <td>-0.000296</td>\n",
       "      <td>-0.000296</td>\n",
       "      <td>-0.000296</td>\n",
       "      <td>0.000000</td>\n",
       "      <td>0.000000</td>\n",
       "    </tr>\n",
       "    <tr>\n",
       "      <th>2023-10-30 08:30:00+00:00</th>\n",
       "      <td>168.85</td>\n",
       "      <td>0.000000</td>\n",
       "      <td>-0.000144</td>\n",
       "      <td>-0.000146</td>\n",
       "      <td>0.000002</td>\n",
       "      <td>0.000001</td>\n",
       "    </tr>\n",
       "    <tr>\n",
       "      <th>2023-10-30 08:45:00+00:00</th>\n",
       "      <td>168.99</td>\n",
       "      <td>0.000829</td>\n",
       "      <td>0.000199</td>\n",
       "      <td>0.000188</td>\n",
       "      <td>0.000012</td>\n",
       "      <td>0.000005</td>\n",
       "    </tr>\n",
       "    <tr>\n",
       "      <th>2023-10-30 09:00:00+00:00</th>\n",
       "      <td>169.23</td>\n",
       "      <td>0.001420</td>\n",
       "      <td>0.000532</td>\n",
       "      <td>0.000508</td>\n",
       "      <td>0.000023</td>\n",
       "      <td>0.000010</td>\n",
       "    </tr>\n",
       "  </tbody>\n",
       "</table>\n",
       "</div>"
      ],
      "text/plain": [
       "                            close    return     ewm12     ewm26      macd  \\\n",
       "timestamp                                                                   \n",
       "2023-10-30 08:00:00+00:00  168.90       NaN       NaN       NaN       NaN   \n",
       "2023-10-30 08:15:00+00:00  168.85 -0.000296 -0.000296 -0.000296  0.000000   \n",
       "2023-10-30 08:30:00+00:00  168.85  0.000000 -0.000144 -0.000146  0.000002   \n",
       "2023-10-30 08:45:00+00:00  168.99  0.000829  0.000199  0.000188  0.000012   \n",
       "2023-10-30 09:00:00+00:00  169.23  0.001420  0.000532  0.000508  0.000023   \n",
       "\n",
       "                             signal  \n",
       "timestamp                            \n",
       "2023-10-30 08:00:00+00:00       NaN  \n",
       "2023-10-30 08:15:00+00:00  0.000000  \n",
       "2023-10-30 08:30:00+00:00  0.000001  \n",
       "2023-10-30 08:45:00+00:00  0.000005  \n",
       "2023-10-30 09:00:00+00:00  0.000010  "
      ]
     },
     "execution_count": 17,
     "metadata": {},
     "output_type": "execute_result"
    }
   ],
   "source": [
    "df_tickers=df_tickers.assign(signal=Signal_line)\n",
    "df_tickers.head()"
   ]
  },
  {
   "cell_type": "code",
   "execution_count": 41,
   "metadata": {},
   "outputs": [
    {
     "data": {
      "text/html": [
       "<div>\n",
       "<style scoped>\n",
       "    .dataframe tbody tr th:only-of-type {\n",
       "        vertical-align: middle;\n",
       "    }\n",
       "\n",
       "    .dataframe tbody tr th {\n",
       "        vertical-align: top;\n",
       "    }\n",
       "\n",
       "    .dataframe thead th {\n",
       "        text-align: right;\n",
       "    }\n",
       "</style>\n",
       "<table border=\"1\" class=\"dataframe\">\n",
       "  <thead>\n",
       "    <tr style=\"text-align: right;\">\n",
       "      <th></th>\n",
       "      <th>close</th>\n",
       "      <th>return</th>\n",
       "      <th>ewm12</th>\n",
       "      <th>ewm26</th>\n",
       "      <th>macd</th>\n",
       "      <th>signal</th>\n",
       "      <th>histogram</th>\n",
       "    </tr>\n",
       "    <tr>\n",
       "      <th>timestamp</th>\n",
       "      <th></th>\n",
       "      <th></th>\n",
       "      <th></th>\n",
       "      <th></th>\n",
       "      <th></th>\n",
       "      <th></th>\n",
       "      <th></th>\n",
       "    </tr>\n",
       "  </thead>\n",
       "  <tbody>\n",
       "    <tr>\n",
       "      <th>2023-10-30 08:00:00+00:00</th>\n",
       "      <td>168.90</td>\n",
       "      <td>NaN</td>\n",
       "      <td>NaN</td>\n",
       "      <td>NaN</td>\n",
       "      <td>NaN</td>\n",
       "      <td>NaN</td>\n",
       "      <td>NaN</td>\n",
       "    </tr>\n",
       "    <tr>\n",
       "      <th>2023-10-30 08:15:00+00:00</th>\n",
       "      <td>168.85</td>\n",
       "      <td>-0.000296</td>\n",
       "      <td>-0.000296</td>\n",
       "      <td>-0.000296</td>\n",
       "      <td>0.000000</td>\n",
       "      <td>0.000000</td>\n",
       "      <td>0.000000</td>\n",
       "    </tr>\n",
       "    <tr>\n",
       "      <th>2023-10-30 08:30:00+00:00</th>\n",
       "      <td>168.85</td>\n",
       "      <td>0.000000</td>\n",
       "      <td>-0.000144</td>\n",
       "      <td>-0.000146</td>\n",
       "      <td>0.000002</td>\n",
       "      <td>0.000001</td>\n",
       "      <td>0.000001</td>\n",
       "    </tr>\n",
       "    <tr>\n",
       "      <th>2023-10-30 08:45:00+00:00</th>\n",
       "      <td>168.99</td>\n",
       "      <td>0.000829</td>\n",
       "      <td>0.000199</td>\n",
       "      <td>0.000188</td>\n",
       "      <td>0.000012</td>\n",
       "      <td>0.000005</td>\n",
       "      <td>0.000007</td>\n",
       "    </tr>\n",
       "    <tr>\n",
       "      <th>2023-10-30 09:00:00+00:00</th>\n",
       "      <td>169.23</td>\n",
       "      <td>0.001420</td>\n",
       "      <td>0.000532</td>\n",
       "      <td>0.000508</td>\n",
       "      <td>0.000023</td>\n",
       "      <td>0.000010</td>\n",
       "      <td>0.000013</td>\n",
       "    </tr>\n",
       "  </tbody>\n",
       "</table>\n",
       "</div>"
      ],
      "text/plain": [
       "                            close    return     ewm12     ewm26      macd  \\\n",
       "timestamp                                                                   \n",
       "2023-10-30 08:00:00+00:00  168.90       NaN       NaN       NaN       NaN   \n",
       "2023-10-30 08:15:00+00:00  168.85 -0.000296 -0.000296 -0.000296  0.000000   \n",
       "2023-10-30 08:30:00+00:00  168.85  0.000000 -0.000144 -0.000146  0.000002   \n",
       "2023-10-30 08:45:00+00:00  168.99  0.000829  0.000199  0.000188  0.000012   \n",
       "2023-10-30 09:00:00+00:00  169.23  0.001420  0.000532  0.000508  0.000023   \n",
       "\n",
       "                             signal  histogram  \n",
       "timestamp                                       \n",
       "2023-10-30 08:00:00+00:00       NaN        NaN  \n",
       "2023-10-30 08:15:00+00:00  0.000000   0.000000  \n",
       "2023-10-30 08:30:00+00:00  0.000001   0.000001  \n",
       "2023-10-30 08:45:00+00:00  0.000005   0.000007  \n",
       "2023-10-30 09:00:00+00:00  0.000010   0.000013  "
      ]
     },
     "execution_count": 41,
     "metadata": {},
     "output_type": "execute_result"
    }
   ],
   "source": [
    "df_tickers=df_tickers.assign(histogram=MACD_line-Signal_line)\n",
    "df_tickers.head()"
   ]
  },
  {
   "cell_type": "code",
   "execution_count": 20,
   "metadata": {},
   "outputs": [],
   "source": [
    "MACD_plot = df_tickers['macd'].hvplot.line(    \n",
    "    x='timestamp', \n",
    "    y='macd',\n",
    "    rot=90,\n",
    "    frame_width=1000,\n",
    "    frame_height=500,\n",
    "    ylabel='AAPL close', \n",
    "    xlabel='timestamp',\n",
    "    title='MACD Line & Signal Line',\n",
    "    grid=True,\n",
    ").opts(\n",
    "    yformatter='%.0f',\n",
    "    hover_color=\"orange\",\n",
    "    gridstyle={'color': 'gray', 'line_width': 1, 'line_style': 'solid'}\n",
    ")"
   ]
  },
  {
   "cell_type": "code",
   "execution_count": 21,
   "metadata": {},
   "outputs": [],
   "source": [
    "Signal_plot = df_tickers['signal'].hvplot.line(    \n",
    "    x='timestamp', \n",
    "    y='signal',\n",
    "    rot=90,\n",
    "    frame_width=1000,\n",
    "    frame_height=500,\n",
    "    ylabel='AAPL close', \n",
    "    xlabel='timestamp',\n",
    "    title='MACD Line & Signal Line',\n",
    "    grid=True,\n",
    "    legend=True,\n",
    ").opts(\n",
    "    yformatter='%.0f',\n",
    "    hover_color=\"orange\",\n",
    "    gridstyle={'color': 'gray', 'line_width': 1, 'line_style': 'solid'}\n",
    ")"
   ]
  },
  {
   "cell_type": "code",
   "execution_count": 22,
   "metadata": {},
   "outputs": [
    {
     "data": {},
     "metadata": {},
     "output_type": "display_data"
    },
    {
     "data": {
      "application/vnd.holoviews_exec.v0+json": "",
      "text/html": [
       "<div id='1002'>\n",
       "  <div class=\"bk-root\" id=\"5af421d0-2686-4176-aec6-830e2eb46374\" data-root-id=\"1002\"></div>\n",
       "</div>\n",
       "<script type=\"application/javascript\">(function(root) {\n",
       "  function embed_document(root) {\n",
       "    var docs_json = {\"10f92296-ce19-4591-835b-1e1fdebf913d\":{\"defs\":[{\"extends\":null,\"module\":null,\"name\":\"ReactiveHTML1\",\"overrides\":[],\"properties\":[]},{\"extends\":null,\"module\":null,\"name\":\"FlexBox1\",\"overrides\":[],\"properties\":[{\"default\":\"flex-start\",\"kind\":null,\"name\":\"align_content\"},{\"default\":\"flex-start\",\"kind\":null,\"name\":\"align_items\"},{\"default\":\"row\",\"kind\":null,\"name\":\"flex_direction\"},{\"default\":\"wrap\",\"kind\":null,\"name\":\"flex_wrap\"},{\"default\":\"flex-start\",\"kind\":null,\"name\":\"justify_content\"}]},{\"extends\":null,\"module\":null,\"name\":\"GridStack1\",\"overrides\":[],\"properties\":[{\"default\":\"warn\",\"kind\":null,\"name\":\"mode\"},{\"default\":null,\"kind\":null,\"name\":\"ncols\"},{\"default\":null,\"kind\":null,\"name\":\"nrows\"},{\"default\":true,\"kind\":null,\"name\":\"allow_resize\"},{\"default\":true,\"kind\":null,\"name\":\"allow_drag\"},{\"default\":[],\"kind\":null,\"name\":\"state\"}]},{\"extends\":null,\"module\":null,\"name\":\"click1\",\"overrides\":[],\"properties\":[{\"default\":\"\",\"kind\":null,\"name\":\"terminal_output\"},{\"default\":\"\",\"kind\":null,\"name\":\"debug_name\"},{\"default\":0,\"kind\":null,\"name\":\"clears\"}]},{\"extends\":null,\"module\":null,\"name\":\"NotificationAreaBase1\",\"overrides\":[],\"properties\":[{\"default\":\"bottom-right\",\"kind\":null,\"name\":\"position\"},{\"default\":0,\"kind\":null,\"name\":\"_clear\"}]},{\"extends\":null,\"module\":null,\"name\":\"NotificationArea1\",\"overrides\":[],\"properties\":[{\"default\":[],\"kind\":null,\"name\":\"notifications\"},{\"default\":\"bottom-right\",\"kind\":null,\"name\":\"position\"},{\"default\":0,\"kind\":null,\"name\":\"_clear\"},{\"default\":[{\"background\":\"#ffc107\",\"icon\":{\"className\":\"fas fa-exclamation-triangle\",\"color\":\"white\",\"tagName\":\"i\"},\"type\":\"warning\"},{\"background\":\"#007bff\",\"icon\":{\"className\":\"fas fa-info-circle\",\"color\":\"white\",\"tagName\":\"i\"},\"type\":\"info\"}],\"kind\":null,\"name\":\"types\"}]},{\"extends\":null,\"module\":null,\"name\":\"Notification\",\"overrides\":[],\"properties\":[{\"default\":null,\"kind\":null,\"name\":\"background\"},{\"default\":3000,\"kind\":null,\"name\":\"duration\"},{\"default\":null,\"kind\":null,\"name\":\"icon\"},{\"default\":\"\",\"kind\":null,\"name\":\"message\"},{\"default\":null,\"kind\":null,\"name\":\"notification_type\"},{\"default\":false,\"kind\":null,\"name\":\"_destroyed\"}]},{\"extends\":null,\"module\":null,\"name\":\"TemplateActions1\",\"overrides\":[],\"properties\":[{\"default\":0,\"kind\":null,\"name\":\"open_modal\"},{\"default\":0,\"kind\":null,\"name\":\"close_modal\"}]},{\"extends\":null,\"module\":null,\"name\":\"MaterialTemplateActions1\",\"overrides\":[],\"properties\":[{\"default\":0,\"kind\":null,\"name\":\"open_modal\"},{\"default\":0,\"kind\":null,\"name\":\"close_modal\"}]}],\"roots\":{\"references\":[{\"attributes\":{\"axis_label\":\"timestamp\",\"coordinates\":null,\"formatter\":{\"id\":\"1040\"},\"group\":null,\"major_label_orientation\":1.5707963267948966,\"major_label_policy\":{\"id\":\"1041\"},\"ticker\":{\"id\":\"1017\"}},\"id\":\"1016\",\"type\":\"DatetimeAxis\"},{\"attributes\":{\"days\":[1,15]},\"id\":\"1073\",\"type\":\"DaysTicker\"},{\"attributes\":{\"months\":[0,1,2,3,4,5,6,7,8,9,10,11]},\"id\":\"1074\",\"type\":\"MonthsTicker\"},{\"attributes\":{\"line_color\":\"#30a2da\",\"line_width\":2,\"tags\":[\"apply_ranges\"],\"x\":{\"field\":\"timestamp\"},\"y\":{\"field\":\"macd\"}},\"id\":\"1052\",\"type\":\"Line\"},{\"attributes\":{},\"id\":\"1021\",\"type\":\"BasicTicker\"},{\"attributes\":{\"children\":[{\"id\":\"1007\"}],\"margin\":[0,0,0,0],\"name\":\"Row00980\",\"sizing_mode\":\"fixed\",\"tags\":[\"embedded\"]},\"id\":\"1002\",\"type\":\"Row\"},{\"attributes\":{},\"id\":\"1014\",\"type\":\"LinearScale\"},{\"attributes\":{\"months\":[0,2,4,6,8,10]},\"id\":\"1075\",\"type\":\"MonthsTicker\"},{\"attributes\":{\"click_policy\":\"mute\",\"coordinates\":null,\"group\":null,\"items\":[{\"id\":\"1080\"},{\"id\":\"1114\"}]},\"id\":\"1079\",\"type\":\"Legend\"},{\"attributes\":{\"line_color\":\"orange\",\"line_width\":2,\"tags\":[\"apply_ranges\"],\"x\":{\"field\":\"timestamp\"},\"y\":{\"field\":\"macd\"}},\"id\":\"1054\",\"type\":\"Line\"},{\"attributes\":{\"months\":[0,4,8]},\"id\":\"1076\",\"type\":\"MonthsTicker\"},{\"attributes\":{\"num_minor_ticks\":5,\"tickers\":[{\"id\":\"1067\"},{\"id\":\"1068\"},{\"id\":\"1069\"},{\"id\":\"1070\"},{\"id\":\"1071\"},{\"id\":\"1072\"},{\"id\":\"1073\"},{\"id\":\"1074\"},{\"id\":\"1075\"},{\"id\":\"1076\"},{\"id\":\"1077\"},{\"id\":\"1078\"}]},\"id\":\"1017\",\"type\":\"DatetimeTicker\"},{\"attributes\":{\"line_alpha\":0.2,\"line_color\":\"#30a2da\",\"line_width\":2,\"tags\":[\"apply_ranges\"],\"x\":{\"field\":\"timestamp\"},\"y\":{\"field\":\"macd\"}},\"id\":\"1055\",\"type\":\"Line\"},{\"attributes\":{\"months\":[0,6]},\"id\":\"1077\",\"type\":\"MonthsTicker\"},{\"attributes\":{\"axis\":{\"id\":\"1016\"},\"coordinates\":null,\"group\":null,\"ticker\":{\"id\":\"1017\"}},\"id\":\"1019\",\"type\":\"Grid\"},{\"attributes\":{\"line_alpha\":0.1,\"line_color\":\"#30a2da\",\"line_width\":2,\"tags\":[\"apply_ranges\"],\"x\":{\"field\":\"timestamp\"},\"y\":{\"field\":\"macd\"}},\"id\":\"1053\",\"type\":\"Line\"},{\"attributes\":{},\"id\":\"1078\",\"type\":\"YearsTicker\"},{\"attributes\":{\"axis\":{\"id\":\"1020\"},\"coordinates\":null,\"dimension\":1,\"group\":null,\"ticker\":{\"id\":\"1021\"}},\"id\":\"1023\",\"type\":\"Grid\"},{\"attributes\":{\"below\":[{\"id\":\"1016\"}],\"center\":[{\"id\":\"1019\"},{\"id\":\"1023\"},{\"id\":\"1079\"}],\"frame_height\":500,\"frame_width\":1000,\"height\":null,\"left\":[{\"id\":\"1020\"}],\"margin\":[5,5,5,5],\"min_border_bottom\":10,\"min_border_left\":10,\"min_border_right\":10,\"min_border_top\":10,\"output_backend\":\"webgl\",\"renderers\":[{\"id\":\"1056\"},{\"id\":\"1089\"}],\"sizing_mode\":\"fixed\",\"title\":{\"id\":\"1008\"},\"toolbar\":{\"id\":\"1030\"},\"width\":null,\"x_range\":{\"id\":\"1003\"},\"x_scale\":{\"id\":\"1012\"},\"y_range\":{\"id\":\"1004\"},\"y_scale\":{\"id\":\"1014\"}},\"id\":\"1007\",\"subtype\":\"Figure\",\"type\":\"Plot\"},{\"attributes\":{\"axis_label\":\"AAPL close\",\"coordinates\":null,\"formatter\":{\"id\":\"1038\"},\"group\":null,\"major_label_policy\":{\"id\":\"1044\"},\"ticker\":{\"id\":\"1021\"}},\"id\":\"1020\",\"type\":\"LinearAxis\"},{\"attributes\":{\"label\":{\"value\":\"macd\"},\"renderers\":[{\"id\":\"1056\"}]},\"id\":\"1080\",\"type\":\"LegendItem\"},{\"attributes\":{},\"id\":\"1064\",\"type\":\"UnionRenderers\"},{\"attributes\":{\"coordinates\":null,\"data_source\":{\"id\":\"1049\"},\"glyph\":{\"id\":\"1052\"},\"group\":null,\"hover_glyph\":{\"id\":\"1054\"},\"muted_glyph\":{\"id\":\"1055\"},\"nonselection_glyph\":{\"id\":\"1053\"},\"selection_glyph\":{\"id\":\"1081\"},\"view\":{\"id\":\"1057\"}},\"id\":\"1056\",\"type\":\"GlyphRenderer\"},{\"attributes\":{\"bottom_units\":\"screen\",\"coordinates\":null,\"fill_alpha\":0.5,\"fill_color\":\"lightgrey\",\"group\":null,\"left_units\":\"screen\",\"level\":\"overlay\",\"line_alpha\":1.0,\"line_color\":\"black\",\"line_dash\":[4,4],\"line_width\":2,\"right_units\":\"screen\",\"syncable\":false,\"top_units\":\"screen\"},\"id\":\"1029\",\"type\":\"BoxAnnotation\"},{\"attributes\":{\"line_color\":\"#fc4f30\",\"line_width\":2,\"tags\":[\"apply_ranges\"],\"x\":{\"field\":\"timestamp\"},\"y\":{\"field\":\"signal\"}},\"id\":\"1085\",\"type\":\"Line\"},{\"attributes\":{},\"id\":\"1044\",\"type\":\"AllLabels\"},{\"attributes\":{},\"id\":\"1050\",\"type\":\"Selection\"},{\"attributes\":{\"line_color\":\"orange\",\"line_width\":2,\"tags\":[\"apply_ranges\"],\"x\":{\"field\":\"timestamp\"},\"y\":{\"field\":\"signal\"}},\"id\":\"1087\",\"type\":\"Line\"},{\"attributes\":{\"callback\":null,\"formatters\":{\"@{timestamp}\":\"datetime\"},\"renderers\":[{\"id\":\"1056\"}],\"tags\":[\"hv_created\"],\"tooltips\":[[\"timestamp\",\"@{timestamp}{%F %T}\"],[\"macd\",\"@{macd}\"]]},\"id\":\"1005\",\"type\":\"HoverTool\"},{\"attributes\":{},\"id\":\"1083\",\"type\":\"Selection\"},{\"attributes\":{\"data\":{\"signal\":{\"__ndarray__\":\"AAAAAAAA+H8AAAAAAAAAAPZdTOEUC7Q+xD9Wyi7k1D6LvrvCni/lPlMSbuABweQ+/qNEEQd/3D70+Ge8WavVPl+u8g5qmsg+vTZ01z9DnL63OUQAu/LHvoL3riNwpsS+OiWRSMmOw76zjh4ogG7OvpworLiLSM6+Cn1vwoO00b4Bq0XtS5PevlJzBOCYmui+ElnL3Q2z8b4yjZexB0b1vhHlIdkDSfi+4A1u03ql9L4T6TbhPQi8PiDJO4jxHvA+nry3gH5d+D4OgULu7k70PuQagxvD8PE+HVPoze5U7T7eexlIfSzwPgXqKMFSh+0+HG/4PzB47D5Ax4X//d/tPi5YGJGer+w+TT2qChLb4j5KLS8QJWHAPv1i3dYlQsK+M1wXfL5G2L6Nqsdm84XMvvgNf3qVTJa++NbKxuny0T5gu0i5BiLgPsdnwDZARuc+yU7PQ+Bf8j5FRhfXNdP0PsoIMr7NRfI+nkV/QqGZ6T5jJ8PBoSbnPn2CxYTA7uQ+J2LtK4dR2z7QoloXJLvPPqiv7LXc/pS+W7nP3i0zz76mbIgbpSDdvmF4/KDie+K+31ue8Ouv574vKBIC4O/tvjK6FbhfbfG+zlXPFZA99b7394ATDIj3vpQWMTOb5fm+Xxy+bkiI/L4m5/IiVXL+vlndNUc7NwC/oOyq16zAAb8=\",\"dtype\":\"float64\",\"order\":\"little\",\"shape\":[64]},\"timestamp\":{\"__ndarray__\":\"AABAjPm3eEIAAPpn+rd4QgAAtEP7t3hCAABuH/y3eEIAACj7/Ld4QgAA4tb9t3hCAACcsv63eEIAAFaO/7d4QgAAEGoAuHhCAADKRQG4eEIAAIQhArh4QgAAPv0CuHhCAAD42AO4eEIAALK0BLh4QgAAbJAFuHhCAAAmbAa4eEIAAOBHB7h4QgAAmiMIuHhCAABU/wi4eEIAAA7bCbh4QgAAyLYKuHhCAACCkgu4eEIAADxuDLh4QgAA9kkNuHhCAACwJQ64eEIAAGoBD7h4QgAAJN0PuHhCAADeuBC4eEIAAJiUEbh4QgAAUnASuHhCAAAMTBO4eEIAAMYnFLh4QgAAgAMVuHhCAAA63xW4eEIAAPS6Frh4QgAArpYXuHhCAABochi4eEIAACJOGbh4QgAA3CkauHhCAACWBRu4eEIAAFDhG7h4QgAACr0cuHhCAADEmB24eEIAAH50Hrh4QgAAOFAfuHhCAADyKyC4eEIAAKwHIbh4QgAAZuMhuHhCAAAgvyK4eEIAANqaI7h4QgAAlHYkuHhCAABOUiW4eEIAAAguJrh4QgAAwgknuHhCAAB85Se4eEIAADbBKLh4QgAA8JwpuHhCAACqeCq4eEIAAGRUK7h4QgAAHjAsuHhCAADYCy24eEIAAJLnLbh4QgAATMMuuHhCAAAGny+4eEI=\",\"dtype\":\"float64\",\"order\":\"little\",\"shape\":[64]}},\"selected\":{\"id\":\"1083\"},\"selection_policy\":{\"id\":\"1099\"}},\"id\":\"1082\",\"type\":\"ColumnDataSource\"},{\"attributes\":{\"source\":{\"id\":\"1082\"}},\"id\":\"1090\",\"type\":\"CDSView\"},{\"attributes\":{},\"id\":\"1041\",\"type\":\"AllLabels\"},{\"attributes\":{\"base\":24,\"mantissas\":[1,2,4,6,8,12],\"max_interval\":43200000.0,\"min_interval\":3600000.0,\"num_minor_ticks\":0},\"id\":\"1069\",\"type\":\"AdaptiveTicker\"},{\"attributes\":{\"data\":{\"macd\":{\"__ndarray__\":\"AAAAAAAA+H8AAAAAAAAAAEDbPv3oTMM+QDM+1qWa6D6AZMtRVG74PsC/MjyxUuM+QHTYSIty175AxM/8+MTDvlC7V5/uOuK+eLRNC+Gl9L4EIdBHXO7yvgAMqCjolIc+ADaBnuGFt764KhUJkxbsvkCfqGuoHM2+MIMu5mxq474ErOMYVJYBv9oO2Gcmwgq/xKufGnq6EL9IsCyhw2ALv/xrWUgImQq/oKor7c8g7j60WlgfT0AsPwRU2K/9UyQ/0Pqz9eB0Gz+AsKmQYGL2voCT8Um3St2+IOWUtcO29L5EgPyIu1MAPwAtJJyhtqm+YC0DcW6o4D6gqIezJtj2PgC6Zz4OZt4+/K5wbTtfB7/vxOFCUbgUv3oa6J3WNQq//nxwv30WCb8Qo1ZRscD5PgAqXukZwQI/iGQ3+GXTDj94ru0qJEcJPyDw6l5LGAs/VEXsLcO8GD9AxJ60Qh0JP7B1xcJU5Oi+5xUc5uufCr+AosGEB/HJvsDUbare5Me+0urHV2uwAr+4zOFMDen+vs3i91tIXgq/skZmeprIB78Bgrqnn1gIv/JiRy2lowC/4EKB3UrlBb/HUbsjB7IKvysmXv7b2Ae/4NIg198OEb8MP34lZOUJv9N0ZlFMjQu/nWh71O2MDr/YfnvdkA8Lv/P56KrBfwy/DOLtpspkEr8=\",\"dtype\":\"float64\",\"order\":\"little\",\"shape\":[64]},\"timestamp\":{\"__ndarray__\":\"AABAjPm3eEIAAPpn+rd4QgAAtEP7t3hCAABuH/y3eEIAACj7/Ld4QgAA4tb9t3hCAACcsv63eEIAAFaO/7d4QgAAEGoAuHhCAADKRQG4eEIAAIQhArh4QgAAPv0CuHhCAAD42AO4eEIAALK0BLh4QgAAbJAFuHhCAAAmbAa4eEIAAOBHB7h4QgAAmiMIuHhCAABU/wi4eEIAAA7bCbh4QgAAyLYKuHhCAACCkgu4eEIAADxuDLh4QgAA9kkNuHhCAACwJQ64eEIAAGoBD7h4QgAAJN0PuHhCAADeuBC4eEIAAJiUEbh4QgAAUnASuHhCAAAMTBO4eEIAAMYnFLh4QgAAgAMVuHhCAAA63xW4eEIAAPS6Frh4QgAArpYXuHhCAABochi4eEIAACJOGbh4QgAA3CkauHhCAACWBRu4eEIAAFDhG7h4QgAACr0cuHhCAADEmB24eEIAAH50Hrh4QgAAOFAfuHhCAADyKyC4eEIAAKwHIbh4QgAAZuMhuHhCAAAgvyK4eEIAANqaI7h4QgAAlHYkuHhCAABOUiW4eEIAAAguJrh4QgAAwgknuHhCAAB85Se4eEIAADbBKLh4QgAA8JwpuHhCAACqeCq4eEIAAGRUK7h4QgAAHjAsuHhCAADYCy24eEIAAJLnLbh4QgAATMMuuHhCAAAGny+4eEI=\",\"dtype\":\"float64\",\"order\":\"little\",\"shape\":[64]}},\"selected\":{\"id\":\"1050\"},\"selection_policy\":{\"id\":\"1064\"}},\"id\":\"1049\",\"type\":\"ColumnDataSource\"},{\"attributes\":{\"line_alpha\":0.1,\"line_color\":\"#fc4f30\",\"line_width\":2,\"tags\":[\"apply_ranges\"],\"x\":{\"field\":\"timestamp\"},\"y\":{\"field\":\"signal\"}},\"id\":\"1086\",\"type\":\"Line\"},{\"attributes\":{\"format\":\"%.0f\"},\"id\":\"1038\",\"type\":\"PrintfTickFormatter\"},{\"attributes\":{\"mantissas\":[1,2,5],\"max_interval\":500.0,\"num_minor_ticks\":0},\"id\":\"1067\",\"type\":\"AdaptiveTicker\"},{\"attributes\":{\"callback\":null,\"formatters\":{\"@{timestamp}\":\"datetime\"},\"renderers\":[{\"id\":\"1089\"}],\"tags\":[\"hv_created\"],\"tooltips\":[[\"timestamp\",\"@{timestamp}{%F %T}\"],[\"signal\",\"@{signal}\"]]},\"id\":\"1006\",\"type\":\"HoverTool\"},{\"attributes\":{},\"id\":\"1024\",\"type\":\"SaveTool\"},{\"attributes\":{\"line_alpha\":0.2,\"line_color\":\"#fc4f30\",\"line_width\":2,\"tags\":[\"apply_ranges\"],\"x\":{\"field\":\"timestamp\"},\"y\":{\"field\":\"signal\"}},\"id\":\"1088\",\"type\":\"Line\"},{\"attributes\":{\"base\":60,\"mantissas\":[1,2,5,10,15,20,30],\"max_interval\":1800000.0,\"min_interval\":1000.0,\"num_minor_ticks\":0},\"id\":\"1068\",\"type\":\"AdaptiveTicker\"},{\"attributes\":{\"end\":0.00024499761612957764,\"reset_end\":0.00024499761612957764,\"reset_start\":-0.00010849849855711207,\"start\":-0.00010849849855711207,\"tags\":[[[\"macd\",\"macd\",null]]]},\"id\":\"1004\",\"type\":\"Range1d\"},{\"attributes\":{},\"id\":\"1025\",\"type\":\"PanTool\"},{\"attributes\":{\"source\":{\"id\":\"1049\"}},\"id\":\"1057\",\"type\":\"CDSView\"},{\"attributes\":{\"line_color\":\"#30a2da\",\"line_width\":2,\"tags\":[\"apply_ranges\"],\"x\":{\"field\":\"timestamp\"},\"y\":{\"field\":\"macd\"}},\"id\":\"1081\",\"type\":\"Line\"},{\"attributes\":{},\"id\":\"1026\",\"type\":\"WheelZoomTool\"},{\"attributes\":{\"coordinates\":null,\"data_source\":{\"id\":\"1082\"},\"glyph\":{\"id\":\"1085\"},\"group\":null,\"hover_glyph\":{\"id\":\"1087\"},\"muted_glyph\":{\"id\":\"1088\"},\"nonselection_glyph\":{\"id\":\"1086\"},\"selection_glyph\":{\"id\":\"1115\"},\"view\":{\"id\":\"1090\"}},\"id\":\"1089\",\"type\":\"GlyphRenderer\"},{\"attributes\":{},\"id\":\"1028\",\"type\":\"ResetTool\"},{\"attributes\":{\"days\":[1,2,3,4,5,6,7,8,9,10,11,12,13,14,15,16,17,18,19,20,21,22,23,24,25,26,27,28,29,30,31]},\"id\":\"1070\",\"type\":\"DaysTicker\"},{\"attributes\":{\"line_color\":\"#fc4f30\",\"line_width\":2,\"tags\":[\"apply_ranges\"],\"x\":{\"field\":\"timestamp\"},\"y\":{\"field\":\"signal\"}},\"id\":\"1115\",\"type\":\"Line\"},{\"attributes\":{},\"id\":\"1012\",\"type\":\"LinearScale\"},{\"attributes\":{\"label\":{\"value\":\"signal\"},\"renderers\":[{\"id\":\"1089\"}]},\"id\":\"1114\",\"type\":\"LegendItem\"},{\"attributes\":{\"days\":[1,4,7,10,13,16,19,22,25,28]},\"id\":\"1071\",\"type\":\"DaysTicker\"},{\"attributes\":{\"overlay\":{\"id\":\"1029\"}},\"id\":\"1027\",\"type\":\"BoxZoomTool\"},{\"attributes\":{},\"id\":\"1099\",\"type\":\"UnionRenderers\"},{\"attributes\":{\"end\":1698709500000.0,\"reset_end\":1698709500000.0,\"reset_start\":1698652800000.0,\"start\":1698652800000.0,\"tags\":[[[\"timestamp\",\"timestamp\",null]]]},\"id\":\"1003\",\"type\":\"Range1d\"},{\"attributes\":{\"coordinates\":null,\"group\":null,\"text\":\"MACD Line & Signal Line\",\"text_color\":\"black\",\"text_font_size\":\"12pt\"},\"id\":\"1008\",\"type\":\"Title\"},{\"attributes\":{\"active_drag\":{\"id\":\"1025\"},\"active_scroll\":{\"id\":\"1026\"},\"tools\":[{\"id\":\"1005\"},{\"id\":\"1006\"},{\"id\":\"1024\"},{\"id\":\"1025\"},{\"id\":\"1026\"},{\"id\":\"1027\"},{\"id\":\"1028\"}]},\"id\":\"1030\",\"type\":\"Toolbar\"},{\"attributes\":{\"days\":[1,8,15,22]},\"id\":\"1072\",\"type\":\"DaysTicker\"},{\"attributes\":{},\"id\":\"1040\",\"type\":\"DatetimeTickFormatter\"}],\"root_ids\":[\"1002\"]},\"title\":\"Bokeh Application\",\"version\":\"2.4.3\"}};\n",
       "    var render_items = [{\"docid\":\"10f92296-ce19-4591-835b-1e1fdebf913d\",\"root_ids\":[\"1002\"],\"roots\":{\"1002\":\"5af421d0-2686-4176-aec6-830e2eb46374\"}}];\n",
       "    root.Bokeh.embed.embed_items_notebook(docs_json, render_items);\n",
       "    for (const render_item of render_items) {\n",
       "      for (const root_id of render_item.root_ids) {\n",
       "\tconst id_el = document.getElementById(root_id)\n",
       "\tif (id_el.children.length && (id_el.children[0].className === 'bk-root')) {\n",
       "\t  const root_el = id_el.children[0]\n",
       "\t  root_el.id = root_el.id + '-rendered'\n",
       "\t}\n",
       "      }\n",
       "    }\n",
       "  }\n",
       "  if (root.Bokeh !== undefined && root.Bokeh.Panel !== undefined) {\n",
       "    embed_document(root);\n",
       "  } else {\n",
       "    var attempts = 0;\n",
       "    var timer = setInterval(function(root) {\n",
       "      if (root.Bokeh !== undefined && root.Bokeh.Panel !== undefined) {\n",
       "        clearInterval(timer);\n",
       "        embed_document(root);\n",
       "      } else if (document.readyState == \"complete\") {\n",
       "        attempts++;\n",
       "        if (attempts > 200) {\n",
       "          clearInterval(timer);\n",
       "          console.log(\"Bokeh: ERROR: Unable to run BokehJS code because BokehJS library is missing\");\n",
       "        }\n",
       "      }\n",
       "    }, 25, root)\n",
       "  }\n",
       "})(window);</script>"
      ],
      "text/plain": [
       ":Overlay\n",
       "   .Curve.Macd   :Curve   [timestamp]   (macd)\n",
       "   .Curve.Signal :Curve   [timestamp]   (signal)"
      ]
     },
     "execution_count": 22,
     "metadata": {
      "application/vnd.holoviews_exec.v0+json": {
       "id": "1002"
      }
     },
     "output_type": "execute_result"
    }
   ],
   "source": [
    "plot = MACD_plot * Signal_plot \n",
    "\n",
    "plot"
   ]
  },
  {
   "cell_type": "code",
   "execution_count": 47,
   "metadata": {},
   "outputs": [
    {
     "data": {},
     "metadata": {},
     "output_type": "display_data"
    },
    {
     "data": {
      "application/vnd.holoviews_exec.v0+json": "",
      "text/html": [
       "<div id='1445'>\n",
       "  <div class=\"bk-root\" id=\"65e65bf2-c450-4ada-9e31-bbc49f053b48\" data-root-id=\"1445\"></div>\n",
       "</div>\n",
       "<script type=\"application/javascript\">(function(root) {\n",
       "  function embed_document(root) {\n",
       "    var docs_json = {\"d7fafdbe-88d3-4aef-8a9c-ebf501f4276f\":{\"defs\":[{\"extends\":null,\"module\":null,\"name\":\"ReactiveHTML1\",\"overrides\":[],\"properties\":[]},{\"extends\":null,\"module\":null,\"name\":\"FlexBox1\",\"overrides\":[],\"properties\":[{\"default\":\"flex-start\",\"kind\":null,\"name\":\"align_content\"},{\"default\":\"flex-start\",\"kind\":null,\"name\":\"align_items\"},{\"default\":\"row\",\"kind\":null,\"name\":\"flex_direction\"},{\"default\":\"wrap\",\"kind\":null,\"name\":\"flex_wrap\"},{\"default\":\"flex-start\",\"kind\":null,\"name\":\"justify_content\"}]},{\"extends\":null,\"module\":null,\"name\":\"GridStack1\",\"overrides\":[],\"properties\":[{\"default\":\"warn\",\"kind\":null,\"name\":\"mode\"},{\"default\":null,\"kind\":null,\"name\":\"ncols\"},{\"default\":null,\"kind\":null,\"name\":\"nrows\"},{\"default\":true,\"kind\":null,\"name\":\"allow_resize\"},{\"default\":true,\"kind\":null,\"name\":\"allow_drag\"},{\"default\":[],\"kind\":null,\"name\":\"state\"}]},{\"extends\":null,\"module\":null,\"name\":\"click1\",\"overrides\":[],\"properties\":[{\"default\":\"\",\"kind\":null,\"name\":\"terminal_output\"},{\"default\":\"\",\"kind\":null,\"name\":\"debug_name\"},{\"default\":0,\"kind\":null,\"name\":\"clears\"}]},{\"extends\":null,\"module\":null,\"name\":\"NotificationAreaBase1\",\"overrides\":[],\"properties\":[{\"default\":\"bottom-right\",\"kind\":null,\"name\":\"position\"},{\"default\":0,\"kind\":null,\"name\":\"_clear\"}]},{\"extends\":null,\"module\":null,\"name\":\"NotificationArea1\",\"overrides\":[],\"properties\":[{\"default\":[],\"kind\":null,\"name\":\"notifications\"},{\"default\":\"bottom-right\",\"kind\":null,\"name\":\"position\"},{\"default\":0,\"kind\":null,\"name\":\"_clear\"},{\"default\":[{\"background\":\"#ffc107\",\"icon\":{\"className\":\"fas fa-exclamation-triangle\",\"color\":\"white\",\"tagName\":\"i\"},\"type\":\"warning\"},{\"background\":\"#007bff\",\"icon\":{\"className\":\"fas fa-info-circle\",\"color\":\"white\",\"tagName\":\"i\"},\"type\":\"info\"}],\"kind\":null,\"name\":\"types\"}]},{\"extends\":null,\"module\":null,\"name\":\"Notification\",\"overrides\":[],\"properties\":[{\"default\":null,\"kind\":null,\"name\":\"background\"},{\"default\":3000,\"kind\":null,\"name\":\"duration\"},{\"default\":null,\"kind\":null,\"name\":\"icon\"},{\"default\":\"\",\"kind\":null,\"name\":\"message\"},{\"default\":null,\"kind\":null,\"name\":\"notification_type\"},{\"default\":false,\"kind\":null,\"name\":\"_destroyed\"}]},{\"extends\":null,\"module\":null,\"name\":\"TemplateActions1\",\"overrides\":[],\"properties\":[{\"default\":0,\"kind\":null,\"name\":\"open_modal\"},{\"default\":0,\"kind\":null,\"name\":\"close_modal\"}]},{\"extends\":null,\"module\":null,\"name\":\"MaterialTemplateActions1\",\"overrides\":[],\"properties\":[{\"default\":0,\"kind\":null,\"name\":\"open_modal\"},{\"default\":0,\"kind\":null,\"name\":\"close_modal\"}]}],\"roots\":{\"references\":[{\"attributes\":{\"end\":0.00024335494077313064,\"reset_end\":0.00024335494077313064,\"reset_start\":-0.00011047925737411021,\"start\":-0.00011047925737411021,\"tags\":[[[\"histogram\",\"histogram\",null]]]},\"id\":\"1447\",\"type\":\"Range1d\"},{\"attributes\":{\"format\":\"%.0f\"},\"id\":\"1488\",\"type\":\"PrintfTickFormatter\"},{\"attributes\":{\"children\":[{\"id\":\"1449\"}],\"margin\":[0,0,0,0],\"name\":\"Row01370\",\"sizing_mode\":\"fixed\",\"tags\":[\"embedded\"]},\"id\":\"1445\",\"type\":\"Row\"},{\"attributes\":{},\"id\":\"1454\",\"type\":\"CategoricalScale\"},{\"attributes\":{},\"id\":\"1466\",\"type\":\"PanTool\"},{\"attributes\":{\"axis\":{\"id\":\"1461\"},\"coordinates\":null,\"dimension\":1,\"group\":null,\"ticker\":{\"id\":\"1462\"}},\"id\":\"1464\",\"type\":\"Grid\"},{\"attributes\":{},\"id\":\"1467\",\"type\":\"WheelZoomTool\"},{\"attributes\":{\"active_drag\":{\"id\":\"1466\"},\"active_scroll\":{\"id\":\"1467\"},\"tools\":[{\"id\":\"1448\"},{\"id\":\"1465\"},{\"id\":\"1466\"},{\"id\":\"1467\"},{\"id\":\"1468\"},{\"id\":\"1469\"}]},\"id\":\"1471\",\"type\":\"Toolbar\"},{\"attributes\":{\"overlay\":{\"id\":\"1470\"}},\"id\":\"1468\",\"type\":\"BoxZoomTool\"},{\"attributes\":{},\"id\":\"1494\",\"type\":\"AllLabels\"},{\"attributes\":{},\"id\":\"1509\",\"type\":\"UnionRenderers\"},{\"attributes\":{\"coordinates\":null,\"group\":null,\"text\":\"MACD Line - Signal Line\",\"text_color\":\"black\",\"text_font_size\":\"12pt\"},\"id\":\"1450\",\"type\":\"Title\"},{\"attributes\":{\"callback\":null,\"renderers\":[{\"id\":\"1485\"}],\"tags\":[\"hv_created\"],\"tooltips\":[[\"timestamp\",\"@{timestamp}\"],[\"histogram\",\"@{histogram}\"]]},\"id\":\"1448\",\"type\":\"HoverTool\"},{\"attributes\":{},\"id\":\"1469\",\"type\":\"ResetTool\"},{\"attributes\":{\"bottom\":{\"value\":0},\"fill_alpha\":{\"value\":1.0},\"fill_color\":{\"value\":\"#30a2da\"},\"hatch_alpha\":{\"value\":1.0},\"hatch_color\":{\"value\":\"#30a2da\"},\"hatch_scale\":{\"value\":12.0},\"hatch_weight\":{\"value\":1.0},\"line_alpha\":{\"value\":1.0},\"line_cap\":{\"value\":\"butt\"},\"line_color\":{\"value\":\"black\"},\"line_dash\":{\"value\":[]},\"line_dash_offset\":{\"value\":0},\"line_join\":{\"value\":\"bevel\"},\"line_width\":{\"value\":1},\"tags\":[\"apply_ranges\"],\"top\":{\"field\":\"histogram\"},\"width\":{\"value\":0.8},\"x\":{\"field\":\"timestamp\"}},\"id\":\"1487\",\"type\":\"VBar\"},{\"attributes\":{\"axis_label\":\"timestamp\",\"coordinates\":null,\"formatter\":{\"id\":\"1490\"},\"group\":null,\"major_label_orientation\":1.5707963267948966,\"major_label_policy\":{\"id\":\"1491\"},\"ticker\":{\"id\":\"1459\"}},\"id\":\"1458\",\"type\":\"CategoricalAxis\"},{\"attributes\":{\"data\":{\"histogram\":{\"__ndarray__\":\"AAAAAAAA+H8AAAAAAAAAAIpYMRm9jrI+vCYm4hxR3D51CtvgCa3rPjAptUMK5aa+H4wOLcn46b4U28861o3fvuhmFCOJYei+nePvC9Q09L6aM4/PCeDvvkJ4Oaa+H8Y+6ChC5WEvrz4Lhw3/8nrkvsCVONA0voI+VontCVYg1b5I7XU21Yf7vgby1i+AmwS//6pZRm2bCL+v6WDIv70Av+fykLcM6fy+mPEBZfHaAT/i7JWjPggsP+Da0H4fUCI/qAuGVYFdFT/HGHa/p1gFv8R//+1wQ/m+V4dEjp2wAb+qhN/J+XrwPtUs69q8Iu++eIPqnYOf174AFBPPnqDfPlz2yOMu+dq+Tz4b8P8VDL9ZPmNrWjsVv0pEekC0EQm/eJHt76UNBr9imC++b1H9PhwoUxSz7QI/qQlevwiVDD+gf5t8oj4FPy7WOlG7RgU/onH4HMskFD87QiaST2f9PqLDlB/4t/6+p/NdGyqDEL8DkPOi46Ltvq33YC/45+q+F5dFPZwaBr+JkObnOHABv24JjKJKNAq/HEt5nGfVBb9sdEkEi7QEv7SJEApZCfi+0Fezwp/y/767xzYjDzYDvySSpkRYRP6+2fpZo/d+B78hhns3vEL8vhLTm2/9NP2+blocnclIAL+KFgSYzKz3vjQ5ZscMkfi+eNcwdugIA78=\",\"dtype\":\"float64\",\"order\":\"little\",\"shape\":[64]},\"timestamp\":[\"2023-10-30 08:00:00\",\"2023-10-30 08:15:00\",\"2023-10-30 08:30:00\",\"2023-10-30 08:45:00\",\"2023-10-30 09:00:00\",\"2023-10-30 09:15:00\",\"2023-10-30 09:30:00\",\"2023-10-30 09:45:00\",\"2023-10-30 10:00:00\",\"2023-10-30 10:15:00\",\"2023-10-30 10:30:00\",\"2023-10-30 10:45:00\",\"2023-10-30 11:00:00\",\"2023-10-30 11:15:00\",\"2023-10-30 11:30:00\",\"2023-10-30 11:45:00\",\"2023-10-30 12:00:00\",\"2023-10-30 12:15:00\",\"2023-10-30 12:30:00\",\"2023-10-30 12:45:00\",\"2023-10-30 13:00:00\",\"2023-10-30 13:15:00\",\"2023-10-30 13:30:00\",\"2023-10-30 13:45:00\",\"2023-10-30 14:00:00\",\"2023-10-30 14:15:00\",\"2023-10-30 14:30:00\",\"2023-10-30 14:45:00\",\"2023-10-30 15:00:00\",\"2023-10-30 15:15:00\",\"2023-10-30 15:30:00\",\"2023-10-30 15:45:00\",\"2023-10-30 16:00:00\",\"2023-10-30 16:15:00\",\"2023-10-30 16:30:00\",\"2023-10-30 16:45:00\",\"2023-10-30 17:00:00\",\"2023-10-30 17:15:00\",\"2023-10-30 17:30:00\",\"2023-10-30 17:45:00\",\"2023-10-30 18:00:00\",\"2023-10-30 18:15:00\",\"2023-10-30 18:30:00\",\"2023-10-30 18:45:00\",\"2023-10-30 19:00:00\",\"2023-10-30 19:15:00\",\"2023-10-30 19:30:00\",\"2023-10-30 19:45:00\",\"2023-10-30 20:00:00\",\"2023-10-30 20:15:00\",\"2023-10-30 20:30:00\",\"2023-10-30 20:45:00\",\"2023-10-30 21:00:00\",\"2023-10-30 21:15:00\",\"2023-10-30 21:30:00\",\"2023-10-30 21:45:00\",\"2023-10-30 22:00:00\",\"2023-10-30 22:15:00\",\"2023-10-30 22:30:00\",\"2023-10-30 22:45:00\",\"2023-10-30 23:00:00\",\"2023-10-30 23:15:00\",\"2023-10-30 23:30:00\",\"2023-10-30 23:45:00\"]},\"selected\":{\"id\":\"1479\"},\"selection_policy\":{\"id\":\"1509\"}},\"id\":\"1478\",\"type\":\"ColumnDataSource\"},{\"attributes\":{\"bottom_units\":\"screen\",\"coordinates\":null,\"fill_alpha\":0.5,\"fill_color\":\"lightgrey\",\"group\":null,\"left_units\":\"screen\",\"level\":\"overlay\",\"line_alpha\":1.0,\"line_color\":\"black\",\"line_dash\":[4,4],\"line_width\":2,\"right_units\":\"screen\",\"syncable\":false,\"top_units\":\"screen\"},\"id\":\"1470\",\"type\":\"BoxAnnotation\"},{\"attributes\":{\"factors\":[\"2023-10-30 08:00:00\",\"2023-10-30 08:15:00\",\"2023-10-30 08:30:00\",\"2023-10-30 08:45:00\",\"2023-10-30 09:00:00\",\"2023-10-30 09:15:00\",\"2023-10-30 09:30:00\",\"2023-10-30 09:45:00\",\"2023-10-30 10:00:00\",\"2023-10-30 10:15:00\",\"2023-10-30 10:30:00\",\"2023-10-30 10:45:00\",\"2023-10-30 11:00:00\",\"2023-10-30 11:15:00\",\"2023-10-30 11:30:00\",\"2023-10-30 11:45:00\",\"2023-10-30 12:00:00\",\"2023-10-30 12:15:00\",\"2023-10-30 12:30:00\",\"2023-10-30 12:45:00\",\"2023-10-30 13:00:00\",\"2023-10-30 13:15:00\",\"2023-10-30 13:30:00\",\"2023-10-30 13:45:00\",\"2023-10-30 14:00:00\",\"2023-10-30 14:15:00\",\"2023-10-30 14:30:00\",\"2023-10-30 14:45:00\",\"2023-10-30 15:00:00\",\"2023-10-30 15:15:00\",\"2023-10-30 15:30:00\",\"2023-10-30 15:45:00\",\"2023-10-30 16:00:00\",\"2023-10-30 16:15:00\",\"2023-10-30 16:30:00\",\"2023-10-30 16:45:00\",\"2023-10-30 17:00:00\",\"2023-10-30 17:15:00\",\"2023-10-30 17:30:00\",\"2023-10-30 17:45:00\",\"2023-10-30 18:00:00\",\"2023-10-30 18:15:00\",\"2023-10-30 18:30:00\",\"2023-10-30 18:45:00\",\"2023-10-30 19:00:00\",\"2023-10-30 19:15:00\",\"2023-10-30 19:30:00\",\"2023-10-30 19:45:00\",\"2023-10-30 20:00:00\",\"2023-10-30 20:15:00\",\"2023-10-30 20:30:00\",\"2023-10-30 20:45:00\",\"2023-10-30 21:00:00\",\"2023-10-30 21:15:00\",\"2023-10-30 21:30:00\",\"2023-10-30 21:45:00\",\"2023-10-30 22:00:00\",\"2023-10-30 22:15:00\",\"2023-10-30 22:30:00\",\"2023-10-30 22:45:00\",\"2023-10-30 23:00:00\",\"2023-10-30 23:15:00\",\"2023-10-30 23:30:00\",\"2023-10-30 23:45:00\"],\"tags\":[[[\"timestamp\",\"timestamp\",null]]]},\"id\":\"1446\",\"type\":\"FactorRange\"},{\"attributes\":{},\"id\":\"1456\",\"type\":\"LinearScale\"},{\"attributes\":{\"fill_color\":{\"value\":\"#30a2da\"},\"hatch_color\":{\"value\":\"#30a2da\"},\"tags\":[\"apply_ranges\"],\"top\":{\"field\":\"histogram\"},\"width\":{\"value\":0.8},\"x\":{\"field\":\"timestamp\"}},\"id\":\"1481\",\"type\":\"VBar\"},{\"attributes\":{},\"id\":\"1459\",\"type\":\"CategoricalTicker\"},{\"attributes\":{\"axis\":{\"id\":\"1458\"},\"coordinates\":null,\"group\":null,\"ticker\":{\"id\":\"1459\"}},\"id\":\"1460\",\"type\":\"Grid\"},{\"attributes\":{},\"id\":\"1462\",\"type\":\"BasicTicker\"},{\"attributes\":{\"axis_label\":\"MACD-Signal\",\"coordinates\":null,\"formatter\":{\"id\":\"1488\"},\"group\":null,\"major_label_policy\":{\"id\":\"1494\"},\"ticker\":{\"id\":\"1462\"}},\"id\":\"1461\",\"type\":\"LinearAxis\"},{\"attributes\":{\"below\":[{\"id\":\"1458\"}],\"center\":[{\"id\":\"1460\"},{\"id\":\"1464\"}],\"frame_height\":500,\"frame_width\":1000,\"height\":null,\"left\":[{\"id\":\"1461\"}],\"margin\":[5,5,5,5],\"min_border_bottom\":10,\"min_border_left\":10,\"min_border_right\":10,\"min_border_top\":10,\"output_backend\":\"webgl\",\"renderers\":[{\"id\":\"1485\"}],\"sizing_mode\":\"fixed\",\"title\":{\"id\":\"1450\"},\"toolbar\":{\"id\":\"1471\"},\"width\":null,\"x_range\":{\"id\":\"1446\"},\"x_scale\":{\"id\":\"1454\"},\"y_range\":{\"id\":\"1447\"},\"y_scale\":{\"id\":\"1456\"}},\"id\":\"1449\",\"subtype\":\"Figure\",\"type\":\"Plot\"},{\"attributes\":{\"fill_color\":{\"value\":\"orange\"},\"hatch_color\":{\"value\":\"orange\"},\"line_color\":{\"value\":\"orange\"},\"tags\":[\"apply_ranges\"],\"top\":{\"field\":\"histogram\"},\"width\":{\"value\":0.8},\"x\":{\"field\":\"timestamp\"}},\"id\":\"1483\",\"type\":\"VBar\"},{\"attributes\":{\"coordinates\":null,\"data_source\":{\"id\":\"1478\"},\"glyph\":{\"id\":\"1481\"},\"group\":null,\"hover_glyph\":{\"id\":\"1483\"},\"muted_glyph\":{\"id\":\"1484\"},\"nonselection_glyph\":{\"id\":\"1482\"},\"selection_glyph\":{\"id\":\"1487\"},\"view\":{\"id\":\"1486\"}},\"id\":\"1485\",\"type\":\"GlyphRenderer\"},{\"attributes\":{\"fill_alpha\":{\"value\":0.2},\"fill_color\":{\"value\":\"#30a2da\"},\"hatch_alpha\":{\"value\":0.2},\"hatch_color\":{\"value\":\"#30a2da\"},\"line_alpha\":{\"value\":0.2},\"tags\":[\"apply_ranges\"],\"top\":{\"field\":\"histogram\"},\"width\":{\"value\":0.8},\"x\":{\"field\":\"timestamp\"}},\"id\":\"1484\",\"type\":\"VBar\"},{\"attributes\":{},\"id\":\"1479\",\"type\":\"Selection\"},{\"attributes\":{},\"id\":\"1491\",\"type\":\"AllLabels\"},{\"attributes\":{\"source\":{\"id\":\"1478\"}},\"id\":\"1486\",\"type\":\"CDSView\"},{\"attributes\":{\"fill_alpha\":{\"value\":0.1},\"fill_color\":{\"value\":\"#30a2da\"},\"hatch_alpha\":{\"value\":0.1},\"hatch_color\":{\"value\":\"#30a2da\"},\"line_alpha\":{\"value\":0.1},\"tags\":[\"apply_ranges\"],\"top\":{\"field\":\"histogram\"},\"width\":{\"value\":0.8},\"x\":{\"field\":\"timestamp\"}},\"id\":\"1482\",\"type\":\"VBar\"},{\"attributes\":{},\"id\":\"1490\",\"type\":\"CategoricalTickFormatter\"},{\"attributes\":{},\"id\":\"1465\",\"type\":\"SaveTool\"}],\"root_ids\":[\"1445\"]},\"title\":\"Bokeh Application\",\"version\":\"2.4.3\"}};\n",
       "    var render_items = [{\"docid\":\"d7fafdbe-88d3-4aef-8a9c-ebf501f4276f\",\"root_ids\":[\"1445\"],\"roots\":{\"1445\":\"65e65bf2-c450-4ada-9e31-bbc49f053b48\"}}];\n",
       "    root.Bokeh.embed.embed_items_notebook(docs_json, render_items);\n",
       "    for (const render_item of render_items) {\n",
       "      for (const root_id of render_item.root_ids) {\n",
       "\tconst id_el = document.getElementById(root_id)\n",
       "\tif (id_el.children.length && (id_el.children[0].className === 'bk-root')) {\n",
       "\t  const root_el = id_el.children[0]\n",
       "\t  root_el.id = root_el.id + '-rendered'\n",
       "\t}\n",
       "      }\n",
       "    }\n",
       "  }\n",
       "  if (root.Bokeh !== undefined && root.Bokeh.Panel !== undefined) {\n",
       "    embed_document(root);\n",
       "  } else {\n",
       "    var attempts = 0;\n",
       "    var timer = setInterval(function(root) {\n",
       "      if (root.Bokeh !== undefined && root.Bokeh.Panel !== undefined) {\n",
       "        clearInterval(timer);\n",
       "        embed_document(root);\n",
       "      } else if (document.readyState == \"complete\") {\n",
       "        attempts++;\n",
       "        if (attempts > 200) {\n",
       "          clearInterval(timer);\n",
       "          console.log(\"Bokeh: ERROR: Unable to run BokehJS code because BokehJS library is missing\");\n",
       "        }\n",
       "      }\n",
       "    }, 25, root)\n",
       "  }\n",
       "})(window);</script>"
      ],
      "text/plain": [
       ":Bars   [timestamp]   (histogram)"
      ]
     },
     "execution_count": 47,
     "metadata": {
      "application/vnd.holoviews_exec.v0+json": {
       "id": "1445"
      }
     },
     "output_type": "execute_result"
    }
   ],
   "source": [
    "Histogram_plot = df_tickers['histogram'].hvplot.bar(    \n",
    "    x='timestamp', \n",
    "    y='histogram',\n",
    "    rot=90,\n",
    "    frame_width=1000,\n",
    "    frame_height=500,\n",
    "    ylabel='MACD-Signal', \n",
    "    xlabel='timestamp',\n",
    "    title='MACD Line - Signal Line',\n",
    "    grid=True,\n",
    "    legend=True,\n",
    ").opts(\n",
    "    yformatter='%.0f',\n",
    "    hover_color=\"orange\",\n",
    "    gridstyle={'color': 'gray', 'line_width': 1, 'line_style': 'solid'}\n",
    ")\n",
    "Histogram_plot"
   ]
  },
  {
   "cell_type": "code",
   "execution_count": 23,
   "metadata": {},
   "outputs": [
    {
     "name": "stdout",
     "output_type": "stream",
     "text": [
      "Unfortunately, your MACD trading algorithm suffered losses of $-0.019855465453849974\n"
     ]
    }
   ],
   "source": [
    "# itterating over MACD line and Signal Line values of the same date in the final Data Frame above\n",
    "\n",
    "buy=0\n",
    "sell=0\n",
    "\n",
    "for index, row in df_tickers.iterrows():\n",
    "    date=row[0]\n",
    "    macd=row['macd']\n",
    "    signal=row['signal']\n",
    "    returns=row['return']\n",
    "    if macd > signal:\n",
    "        buy+=returns\n",
    "    elif signal > macd:\n",
    "        sell+=returns    \n",
    "\n",
    "\n",
    "# Calculate MACD results\n",
    "if sell>buy:\n",
    "    print(f\"Congratulations, your MACD trading algorithm made a profit of ${buy}\")\n",
    "elif buy>sell:\n",
    "    print(f\"Unfortunately, your MACD trading algorithm suffered losses of ${sell}\") "
   ]
  }
 ],
 "metadata": {
  "kernelspec": {
   "display_name": "Python 3",
   "language": "python",
   "name": "python3"
  },
  "language_info": {
   "codemirror_mode": {
    "name": "ipython",
    "version": 3
   },
   "file_extension": ".py",
   "mimetype": "text/x-python",
   "name": "python",
   "nbconvert_exporter": "python",
   "pygments_lexer": "ipython3",
   "version": "3.7.16"
  },
  "nteract": {
   "version": "0.28.0"
  }
 },
 "nbformat": 4,
 "nbformat_minor": 4
}
