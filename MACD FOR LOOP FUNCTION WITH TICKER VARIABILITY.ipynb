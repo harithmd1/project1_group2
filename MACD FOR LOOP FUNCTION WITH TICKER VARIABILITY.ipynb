{
 "cells": [
  {
   "cell_type": "code",
   "execution_count": null,
   "metadata": {},
   "outputs": [],
   "source": [
    "# Initial imports\n",
    "import os\n",
    "import requests\n",
    "import pandas as pd\n",
    "import numpy as np\n",
    "#from MCForecastTools import MCSimulation\n",
    "from dotenv import load_dotenv\n",
    "import alpaca_trade_api as tradeapi\n",
    "#from alpha_vantage.timeseries import TimeSeries\n",
    "import matplotlib.pyplot as plt\n",
    "import hvplot.pandas\n",
    "\n",
    "\n",
    "%matplotlib inline"
   ]
  },
  {
   "cell_type": "code",
   "execution_count": null,
   "metadata": {},
   "outputs": [],
   "source": [
    "# Load .env enviroment variables\n",
    "load_dotenv()"
   ]
  },
  {
   "cell_type": "code",
   "execution_count": null,
   "metadata": {},
   "outputs": [],
   "source": [
    "# Set Alpaca API key and secret\n",
    "alpaca_api_key=os.getenv('ALPACA_API_KEY')\n",
    "alpaca_secret_key=os.getenv('ALPACA_SECRET_KEY')\n",
    "\n",
    "# Create the Alpaca API object\n",
    "alpaca=tradeapi.REST(\n",
    "    alpaca_api_key,\n",
    "    alpaca_secret_key,\n",
    "    api_version='v2'\n",
    ")"
   ]
  },
  {
   "cell_type": "code",
   "execution_count": null,
   "metadata": {},
   "outputs": [],
   "source": [
    "# Format current date as ISO format\n",
    "start_time=pd.Timestamp('2023-10-22', tz='America/New_York').isoformat()\n",
    "end_time=pd.Timestamp('2023-10-31', tz='America/New_York').isoformat()\n",
    "\n",
    "# Set the tickers\n",
    "tickers = [\"AAPL\"]\n",
    "\n",
    "# Set timeframe to \"1Minute\" for Alpaca API\n",
    "timeframe = \"15Min\"\n"
   ]
  },
  {
   "cell_type": "code",
   "execution_count": null,
   "metadata": {},
   "outputs": [],
   "source": [
    "def macd_order(tickers,short_window=12,long_window=26):\n",
    "    df_tickers=alpaca.get_bars(\n",
    "        tickers,\n",
    "        timeframe,\n",
    "        start=start_time,\n",
    "        end=end_time\n",
    "    ).df\n",
    "    def calculate_macd(df_tickers = df_tickers, short_window=short_window, long_window=long_window):\n",
    "        df_tickers['ShortEMA'] = df_tickers['close'].ewm(span=short_window, adjust=False).mean()\n",
    "        df_tickers['LongEMA'] = df_tickers['close'].ewm(span=long_window, adjust=False).mean()\n",
    "        df_tickers['MACD'] = df_tickers['ShortEMA'] - df_tickers['LongEMA']\n",
    "        df_tickers['SignalLine'] = df_tickers['MACD'].ewm(span=9, adjust=False).mean()\n",
    "        return df_tickers\n",
    "\n",
    "\n",
    "    data_frame = calculate_macd(df_tickers, short_window, long_window)    \n",
    "    position = None \n",
    "    buy_price = 0\n",
    "    sell_price = 0\n",
    "    signals = []\n",
    "    for i in range(1, len(data_frame)):\n",
    "        if data_frame['MACD'][i] > data_frame['SignalLine'][i] and data_frame['MACD'][i - 1] <= data_frame['SignalLine'][i - 1]:\n",
    "            # if position is None:\n",
    "                position = 'buy'\n",
    "                buy_price = data_frame['close'][i]\n",
    "                signals.append((data_frame.index[i], 'Buy', buy_price))\n",
    "        elif data_frame['MACD'][i] < data_frame['SignalLine'][i] and data_frame['MACD'][i - 1] >= data_frame['SignalLine'][i - 1]:\n",
    "            # if position == 'buy':\n",
    "                position = 'sell'\n",
    "                sell_price = data_frame['close'][i]\n",
    "                signals.append((data_frame.index[i], 'Sell', sell_price))\n",
    "    return signals\n",
    "\n",
    "\n"
   ]
  },
  {
   "cell_type": "code",
   "execution_count": null,
   "metadata": {},
   "outputs": [],
   "source": [
    "#input any ticker\n",
    "s= macd_order('TSLA')"
   ]
  },
  {
   "cell_type": "code",
   "execution_count": null,
   "metadata": {},
   "outputs": [],
   "source": [
    "for signal in s:\n",
    "    print(f\"Signal Date: {signal[0]}, Action: {signal[1]}, Price: {signal[2]}\")"
   ]
  }
 ],
 "metadata": {
  "language_info": {
   "name": "python"
  }
 },
 "nbformat": 4,
 "nbformat_minor": 2
}
